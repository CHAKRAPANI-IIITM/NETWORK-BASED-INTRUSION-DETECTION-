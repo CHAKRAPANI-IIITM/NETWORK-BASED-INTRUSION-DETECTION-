{
  "nbformat": 4,
  "nbformat_minor": 0,
  "metadata": {
    "colab": {
      "name": "NIDS.ipynb",
      "provenance": []
    },
    "kernelspec": {
      "name": "python3",
      "display_name": "Python 3"
    }
  },
  "cells": [
    {
      "cell_type": "code",
      "metadata": {
        "id": "sTHhJMZ-JXuR",
        "colab": {
          "base_uri": "https://localhost:8080/"
        },
        "outputId": "8fbbef90-4d99-4040-b3e4-e7e80d2c3528"
      },
      "source": [
        "from google.colab import drive\n",
        "drive.mount('/content/drive')"
      ],
      "execution_count": null,
      "outputs": [
        {
          "output_type": "stream",
          "text": [
            "Mounted at /content/drive\n"
          ],
          "name": "stdout"
        }
      ]
    },
    {
      "cell_type": "code",
      "metadata": {
        "id": "L0HWRkDPKAED",
        "colab": {
          "base_uri": "https://localhost:8080/"
        },
        "outputId": "053e36ac-ea4d-49ca-8dd2-164918d5bc60"
      },
      "source": [
        "cd/content/drive/My Drive/NIDS"
      ],
      "execution_count": null,
      "outputs": [
        {
          "output_type": "stream",
          "text": [
            "/content/drive/My Drive/NIDS\n"
          ],
          "name": "stdout"
        }
      ]
    },
    {
      "cell_type": "code",
      "metadata": {
        "id": "GVkSBbdSLC4k"
      },
      "source": [
        "import pandas as pd\n",
        "import numpy as np\n",
        "import sys\n",
        "from sklearn.model_selection import train_test_split\n",
        "from sklearn.metrics import accuracy_score, precision_score, recall_score\n",
        "import torch\n",
        "import torch.nn as nn\n",
        "import torch.nn.functional as F\n",
        "from torch.autograd import Variable\n",
        "import torch.optim as optim\n",
        "import matplotlib.pyplot as plt"
      ],
      "execution_count": null,
      "outputs": []
    },
    {
      "cell_type": "code",
      "metadata": {
        "id": "qm9FLOFJLNaQ",
        "colab": {
          "base_uri": "https://localhost:8080/"
        },
        "outputId": "7b24d2e1-8d7f-4fa2-8bcb-3a5f94c4a67c"
      },
      "source": [
        "col_names = [\"duration\",\"protocol_type\",\"service\",\"flag\",\"src_bytes\",\"dst_bytes\",\"land\",\"wrong_fragment\",\"urgent\",\"hot\",\"num_failed_logins\",\n",
        "    \"logged_in\",\"num_compromised\",\"root_shell\",\"su_attempted\",\"num_root\",\"num_file_creations\",\"num_shells\",\"num_access_files\",\"num_outbound_cmds\",\n",
        "    \"is_host_login\",\"is_guest_login\",\"count\",\"srv_count\",\"serror_rate\",\"srv_serror_rate\",\"rerror_rate\",\"srv_rerror_rate\",\"same_srv_rate\",\n",
        "    \"diff_srv_rate\",\"srv_diff_host_rate\",\"dst_host_count\",\"dst_host_srv_count\",\"dst_host_same_srv_rate\",\"dst_host_diff_srv_rate\",\"dst_host_same_src_port_rate\",\n",
        "    \"dst_host_srv_diff_host_rate\",\"dst_host_serror_rate\",\"dst_host_srv_serror_rate\",\"dst_host_rerror_rate\",\"dst_host_srv_rerror_rate\",\"label\"]\n",
        "\n",
        "df = pd.read_csv(\"KDDTrain.csv\", header=None, names = col_names)\n",
        "df_test = pd.read_csv(\"KDDTest.csv\", header=None, names = col_names)\n",
        "\n",
        "print('Dimensions of the Training set:',df.shape)\n",
        "print('Dimensions of the Test set:',df_test.shape)"
      ],
      "execution_count": null,
      "outputs": [
        {
          "output_type": "stream",
          "text": [
            "Dimensions of the Training set: (125973, 42)\n",
            "Dimensions of the Test set: (22543, 42)\n"
          ],
          "name": "stdout"
        }
      ]
    },
    {
      "cell_type": "code",
      "metadata": {
        "id": "c5JGRca9Oh1Y",
        "colab": {
          "base_uri": "https://localhost:8080/",
          "height": 224
        },
        "outputId": "af233cf1-3eb1-430f-c292-7f73fbc2729d"
      },
      "source": [
        "df.head(5)"
      ],
      "execution_count": null,
      "outputs": [
        {
          "output_type": "execute_result",
          "data": {
            "text/html": [
              "<div>\n",
              "<style scoped>\n",
              "    .dataframe tbody tr th:only-of-type {\n",
              "        vertical-align: middle;\n",
              "    }\n",
              "\n",
              "    .dataframe tbody tr th {\n",
              "        vertical-align: top;\n",
              "    }\n",
              "\n",
              "    .dataframe thead th {\n",
              "        text-align: right;\n",
              "    }\n",
              "</style>\n",
              "<table border=\"1\" class=\"dataframe\">\n",
              "  <thead>\n",
              "    <tr style=\"text-align: right;\">\n",
              "      <th></th>\n",
              "      <th>duration</th>\n",
              "      <th>protocol_type</th>\n",
              "      <th>service</th>\n",
              "      <th>flag</th>\n",
              "      <th>src_bytes</th>\n",
              "      <th>dst_bytes</th>\n",
              "      <th>land</th>\n",
              "      <th>wrong_fragment</th>\n",
              "      <th>urgent</th>\n",
              "      <th>hot</th>\n",
              "      <th>num_failed_logins</th>\n",
              "      <th>logged_in</th>\n",
              "      <th>num_compromised</th>\n",
              "      <th>root_shell</th>\n",
              "      <th>su_attempted</th>\n",
              "      <th>num_root</th>\n",
              "      <th>num_file_creations</th>\n",
              "      <th>num_shells</th>\n",
              "      <th>num_access_files</th>\n",
              "      <th>num_outbound_cmds</th>\n",
              "      <th>is_host_login</th>\n",
              "      <th>is_guest_login</th>\n",
              "      <th>count</th>\n",
              "      <th>srv_count</th>\n",
              "      <th>serror_rate</th>\n",
              "      <th>srv_serror_rate</th>\n",
              "      <th>rerror_rate</th>\n",
              "      <th>srv_rerror_rate</th>\n",
              "      <th>same_srv_rate</th>\n",
              "      <th>diff_srv_rate</th>\n",
              "      <th>srv_diff_host_rate</th>\n",
              "      <th>dst_host_count</th>\n",
              "      <th>dst_host_srv_count</th>\n",
              "      <th>dst_host_same_srv_rate</th>\n",
              "      <th>dst_host_diff_srv_rate</th>\n",
              "      <th>dst_host_same_src_port_rate</th>\n",
              "      <th>dst_host_srv_diff_host_rate</th>\n",
              "      <th>dst_host_serror_rate</th>\n",
              "      <th>dst_host_srv_serror_rate</th>\n",
              "      <th>dst_host_rerror_rate</th>\n",
              "      <th>dst_host_srv_rerror_rate</th>\n",
              "      <th>label</th>\n",
              "    </tr>\n",
              "  </thead>\n",
              "  <tbody>\n",
              "    <tr>\n",
              "      <th>0</th>\n",
              "      <td>0</td>\n",
              "      <td>tcp</td>\n",
              "      <td>ftp_data</td>\n",
              "      <td>SF</td>\n",
              "      <td>491</td>\n",
              "      <td>0</td>\n",
              "      <td>0</td>\n",
              "      <td>0</td>\n",
              "      <td>0</td>\n",
              "      <td>0</td>\n",
              "      <td>0</td>\n",
              "      <td>0</td>\n",
              "      <td>0</td>\n",
              "      <td>0</td>\n",
              "      <td>0</td>\n",
              "      <td>0</td>\n",
              "      <td>0</td>\n",
              "      <td>0</td>\n",
              "      <td>0</td>\n",
              "      <td>0</td>\n",
              "      <td>0</td>\n",
              "      <td>0</td>\n",
              "      <td>2</td>\n",
              "      <td>2</td>\n",
              "      <td>0.0</td>\n",
              "      <td>0.0</td>\n",
              "      <td>0.0</td>\n",
              "      <td>0.0</td>\n",
              "      <td>1.00</td>\n",
              "      <td>0.00</td>\n",
              "      <td>0.00</td>\n",
              "      <td>150</td>\n",
              "      <td>25</td>\n",
              "      <td>0.17</td>\n",
              "      <td>0.03</td>\n",
              "      <td>0.17</td>\n",
              "      <td>0.00</td>\n",
              "      <td>0.00</td>\n",
              "      <td>0.00</td>\n",
              "      <td>0.05</td>\n",
              "      <td>0.00</td>\n",
              "      <td>normal</td>\n",
              "    </tr>\n",
              "    <tr>\n",
              "      <th>1</th>\n",
              "      <td>0</td>\n",
              "      <td>udp</td>\n",
              "      <td>other</td>\n",
              "      <td>SF</td>\n",
              "      <td>146</td>\n",
              "      <td>0</td>\n",
              "      <td>0</td>\n",
              "      <td>0</td>\n",
              "      <td>0</td>\n",
              "      <td>0</td>\n",
              "      <td>0</td>\n",
              "      <td>0</td>\n",
              "      <td>0</td>\n",
              "      <td>0</td>\n",
              "      <td>0</td>\n",
              "      <td>0</td>\n",
              "      <td>0</td>\n",
              "      <td>0</td>\n",
              "      <td>0</td>\n",
              "      <td>0</td>\n",
              "      <td>0</td>\n",
              "      <td>0</td>\n",
              "      <td>13</td>\n",
              "      <td>1</td>\n",
              "      <td>0.0</td>\n",
              "      <td>0.0</td>\n",
              "      <td>0.0</td>\n",
              "      <td>0.0</td>\n",
              "      <td>0.08</td>\n",
              "      <td>0.15</td>\n",
              "      <td>0.00</td>\n",
              "      <td>255</td>\n",
              "      <td>1</td>\n",
              "      <td>0.00</td>\n",
              "      <td>0.60</td>\n",
              "      <td>0.88</td>\n",
              "      <td>0.00</td>\n",
              "      <td>0.00</td>\n",
              "      <td>0.00</td>\n",
              "      <td>0.00</td>\n",
              "      <td>0.00</td>\n",
              "      <td>normal</td>\n",
              "    </tr>\n",
              "    <tr>\n",
              "      <th>2</th>\n",
              "      <td>0</td>\n",
              "      <td>tcp</td>\n",
              "      <td>private</td>\n",
              "      <td>S0</td>\n",
              "      <td>0</td>\n",
              "      <td>0</td>\n",
              "      <td>0</td>\n",
              "      <td>0</td>\n",
              "      <td>0</td>\n",
              "      <td>0</td>\n",
              "      <td>0</td>\n",
              "      <td>0</td>\n",
              "      <td>0</td>\n",
              "      <td>0</td>\n",
              "      <td>0</td>\n",
              "      <td>0</td>\n",
              "      <td>0</td>\n",
              "      <td>0</td>\n",
              "      <td>0</td>\n",
              "      <td>0</td>\n",
              "      <td>0</td>\n",
              "      <td>0</td>\n",
              "      <td>123</td>\n",
              "      <td>6</td>\n",
              "      <td>1.0</td>\n",
              "      <td>1.0</td>\n",
              "      <td>0.0</td>\n",
              "      <td>0.0</td>\n",
              "      <td>0.05</td>\n",
              "      <td>0.07</td>\n",
              "      <td>0.00</td>\n",
              "      <td>255</td>\n",
              "      <td>26</td>\n",
              "      <td>0.10</td>\n",
              "      <td>0.05</td>\n",
              "      <td>0.00</td>\n",
              "      <td>0.00</td>\n",
              "      <td>1.00</td>\n",
              "      <td>1.00</td>\n",
              "      <td>0.00</td>\n",
              "      <td>0.00</td>\n",
              "      <td>neptune</td>\n",
              "    </tr>\n",
              "    <tr>\n",
              "      <th>3</th>\n",
              "      <td>0</td>\n",
              "      <td>tcp</td>\n",
              "      <td>http</td>\n",
              "      <td>SF</td>\n",
              "      <td>232</td>\n",
              "      <td>8153</td>\n",
              "      <td>0</td>\n",
              "      <td>0</td>\n",
              "      <td>0</td>\n",
              "      <td>0</td>\n",
              "      <td>0</td>\n",
              "      <td>1</td>\n",
              "      <td>0</td>\n",
              "      <td>0</td>\n",
              "      <td>0</td>\n",
              "      <td>0</td>\n",
              "      <td>0</td>\n",
              "      <td>0</td>\n",
              "      <td>0</td>\n",
              "      <td>0</td>\n",
              "      <td>0</td>\n",
              "      <td>0</td>\n",
              "      <td>5</td>\n",
              "      <td>5</td>\n",
              "      <td>0.2</td>\n",
              "      <td>0.2</td>\n",
              "      <td>0.0</td>\n",
              "      <td>0.0</td>\n",
              "      <td>1.00</td>\n",
              "      <td>0.00</td>\n",
              "      <td>0.00</td>\n",
              "      <td>30</td>\n",
              "      <td>255</td>\n",
              "      <td>1.00</td>\n",
              "      <td>0.00</td>\n",
              "      <td>0.03</td>\n",
              "      <td>0.04</td>\n",
              "      <td>0.03</td>\n",
              "      <td>0.01</td>\n",
              "      <td>0.00</td>\n",
              "      <td>0.01</td>\n",
              "      <td>normal</td>\n",
              "    </tr>\n",
              "    <tr>\n",
              "      <th>4</th>\n",
              "      <td>0</td>\n",
              "      <td>tcp</td>\n",
              "      <td>http</td>\n",
              "      <td>SF</td>\n",
              "      <td>199</td>\n",
              "      <td>420</td>\n",
              "      <td>0</td>\n",
              "      <td>0</td>\n",
              "      <td>0</td>\n",
              "      <td>0</td>\n",
              "      <td>0</td>\n",
              "      <td>1</td>\n",
              "      <td>0</td>\n",
              "      <td>0</td>\n",
              "      <td>0</td>\n",
              "      <td>0</td>\n",
              "      <td>0</td>\n",
              "      <td>0</td>\n",
              "      <td>0</td>\n",
              "      <td>0</td>\n",
              "      <td>0</td>\n",
              "      <td>0</td>\n",
              "      <td>30</td>\n",
              "      <td>32</td>\n",
              "      <td>0.0</td>\n",
              "      <td>0.0</td>\n",
              "      <td>0.0</td>\n",
              "      <td>0.0</td>\n",
              "      <td>1.00</td>\n",
              "      <td>0.00</td>\n",
              "      <td>0.09</td>\n",
              "      <td>255</td>\n",
              "      <td>255</td>\n",
              "      <td>1.00</td>\n",
              "      <td>0.00</td>\n",
              "      <td>0.00</td>\n",
              "      <td>0.00</td>\n",
              "      <td>0.00</td>\n",
              "      <td>0.00</td>\n",
              "      <td>0.00</td>\n",
              "      <td>0.00</td>\n",
              "      <td>normal</td>\n",
              "    </tr>\n",
              "  </tbody>\n",
              "</table>\n",
              "</div>"
            ],
            "text/plain": [
              "   duration protocol_type  ... dst_host_srv_rerror_rate    label\n",
              "0         0           tcp  ...                     0.00   normal\n",
              "1         0           udp  ...                     0.00   normal\n",
              "2         0           tcp  ...                     0.00  neptune\n",
              "3         0           tcp  ...                     0.01   normal\n",
              "4         0           tcp  ...                     0.00   normal\n",
              "\n",
              "[5 rows x 42 columns]"
            ]
          },
          "metadata": {
            "tags": []
          },
          "execution_count": 9
        }
      ]
    },
    {
      "cell_type": "code",
      "metadata": {
        "id": "dcKjriHfO6i_",
        "colab": {
          "base_uri": "https://localhost:8080/",
          "height": 317
        },
        "outputId": "4693aa87-a5f3-452a-a1a3-e007ec0f9e63"
      },
      "source": [
        "df.describe()"
      ],
      "execution_count": null,
      "outputs": [
        {
          "output_type": "execute_result",
          "data": {
            "text/html": [
              "<div>\n",
              "<style scoped>\n",
              "    .dataframe tbody tr th:only-of-type {\n",
              "        vertical-align: middle;\n",
              "    }\n",
              "\n",
              "    .dataframe tbody tr th {\n",
              "        vertical-align: top;\n",
              "    }\n",
              "\n",
              "    .dataframe thead th {\n",
              "        text-align: right;\n",
              "    }\n",
              "</style>\n",
              "<table border=\"1\" class=\"dataframe\">\n",
              "  <thead>\n",
              "    <tr style=\"text-align: right;\">\n",
              "      <th></th>\n",
              "      <th>duration</th>\n",
              "      <th>src_bytes</th>\n",
              "      <th>dst_bytes</th>\n",
              "      <th>land</th>\n",
              "      <th>wrong_fragment</th>\n",
              "      <th>urgent</th>\n",
              "      <th>hot</th>\n",
              "      <th>num_failed_logins</th>\n",
              "      <th>logged_in</th>\n",
              "      <th>num_compromised</th>\n",
              "      <th>root_shell</th>\n",
              "      <th>su_attempted</th>\n",
              "      <th>num_root</th>\n",
              "      <th>num_file_creations</th>\n",
              "      <th>num_shells</th>\n",
              "      <th>num_access_files</th>\n",
              "      <th>num_outbound_cmds</th>\n",
              "      <th>is_host_login</th>\n",
              "      <th>is_guest_login</th>\n",
              "      <th>count</th>\n",
              "      <th>srv_count</th>\n",
              "      <th>serror_rate</th>\n",
              "      <th>srv_serror_rate</th>\n",
              "      <th>rerror_rate</th>\n",
              "      <th>srv_rerror_rate</th>\n",
              "      <th>same_srv_rate</th>\n",
              "      <th>diff_srv_rate</th>\n",
              "      <th>srv_diff_host_rate</th>\n",
              "      <th>dst_host_count</th>\n",
              "      <th>dst_host_srv_count</th>\n",
              "      <th>dst_host_same_srv_rate</th>\n",
              "      <th>dst_host_diff_srv_rate</th>\n",
              "      <th>dst_host_same_src_port_rate</th>\n",
              "      <th>dst_host_srv_diff_host_rate</th>\n",
              "      <th>dst_host_serror_rate</th>\n",
              "      <th>dst_host_srv_serror_rate</th>\n",
              "      <th>dst_host_rerror_rate</th>\n",
              "      <th>dst_host_srv_rerror_rate</th>\n",
              "    </tr>\n",
              "  </thead>\n",
              "  <tbody>\n",
              "    <tr>\n",
              "      <th>count</th>\n",
              "      <td>125973.00000</td>\n",
              "      <td>1.259730e+05</td>\n",
              "      <td>1.259730e+05</td>\n",
              "      <td>125973.000000</td>\n",
              "      <td>125973.000000</td>\n",
              "      <td>125973.000000</td>\n",
              "      <td>125973.000000</td>\n",
              "      <td>125973.000000</td>\n",
              "      <td>125973.000000</td>\n",
              "      <td>125973.000000</td>\n",
              "      <td>125973.000000</td>\n",
              "      <td>125973.000000</td>\n",
              "      <td>125973.000000</td>\n",
              "      <td>125973.000000</td>\n",
              "      <td>125973.000000</td>\n",
              "      <td>125973.000000</td>\n",
              "      <td>125973.0</td>\n",
              "      <td>125973.000000</td>\n",
              "      <td>125973.000000</td>\n",
              "      <td>125973.000000</td>\n",
              "      <td>125973.000000</td>\n",
              "      <td>125973.000000</td>\n",
              "      <td>125973.000000</td>\n",
              "      <td>125973.000000</td>\n",
              "      <td>125973.000000</td>\n",
              "      <td>125973.000000</td>\n",
              "      <td>125973.000000</td>\n",
              "      <td>125973.000000</td>\n",
              "      <td>125973.000000</td>\n",
              "      <td>125973.000000</td>\n",
              "      <td>125973.000000</td>\n",
              "      <td>125973.000000</td>\n",
              "      <td>125973.000000</td>\n",
              "      <td>125973.000000</td>\n",
              "      <td>125973.000000</td>\n",
              "      <td>125973.000000</td>\n",
              "      <td>125973.000000</td>\n",
              "      <td>125973.000000</td>\n",
              "    </tr>\n",
              "    <tr>\n",
              "      <th>mean</th>\n",
              "      <td>287.14465</td>\n",
              "      <td>4.556674e+04</td>\n",
              "      <td>1.977911e+04</td>\n",
              "      <td>0.000198</td>\n",
              "      <td>0.022687</td>\n",
              "      <td>0.000111</td>\n",
              "      <td>0.204409</td>\n",
              "      <td>0.001222</td>\n",
              "      <td>0.395736</td>\n",
              "      <td>0.279250</td>\n",
              "      <td>0.001342</td>\n",
              "      <td>0.001103</td>\n",
              "      <td>0.302192</td>\n",
              "      <td>0.012669</td>\n",
              "      <td>0.000413</td>\n",
              "      <td>0.004096</td>\n",
              "      <td>0.0</td>\n",
              "      <td>0.000008</td>\n",
              "      <td>0.009423</td>\n",
              "      <td>84.107555</td>\n",
              "      <td>27.737888</td>\n",
              "      <td>0.284485</td>\n",
              "      <td>0.282485</td>\n",
              "      <td>0.119958</td>\n",
              "      <td>0.121183</td>\n",
              "      <td>0.660928</td>\n",
              "      <td>0.063053</td>\n",
              "      <td>0.097322</td>\n",
              "      <td>182.148945</td>\n",
              "      <td>115.653005</td>\n",
              "      <td>0.521242</td>\n",
              "      <td>0.082951</td>\n",
              "      <td>0.148379</td>\n",
              "      <td>0.032542</td>\n",
              "      <td>0.284452</td>\n",
              "      <td>0.278485</td>\n",
              "      <td>0.118832</td>\n",
              "      <td>0.120240</td>\n",
              "    </tr>\n",
              "    <tr>\n",
              "      <th>std</th>\n",
              "      <td>2604.51531</td>\n",
              "      <td>5.870331e+06</td>\n",
              "      <td>4.021269e+06</td>\n",
              "      <td>0.014086</td>\n",
              "      <td>0.253530</td>\n",
              "      <td>0.014366</td>\n",
              "      <td>2.149968</td>\n",
              "      <td>0.045239</td>\n",
              "      <td>0.489010</td>\n",
              "      <td>23.942042</td>\n",
              "      <td>0.036603</td>\n",
              "      <td>0.045154</td>\n",
              "      <td>24.399618</td>\n",
              "      <td>0.483935</td>\n",
              "      <td>0.022181</td>\n",
              "      <td>0.099370</td>\n",
              "      <td>0.0</td>\n",
              "      <td>0.002817</td>\n",
              "      <td>0.096612</td>\n",
              "      <td>114.508607</td>\n",
              "      <td>72.635840</td>\n",
              "      <td>0.446456</td>\n",
              "      <td>0.447022</td>\n",
              "      <td>0.320436</td>\n",
              "      <td>0.323647</td>\n",
              "      <td>0.439623</td>\n",
              "      <td>0.180314</td>\n",
              "      <td>0.259830</td>\n",
              "      <td>99.206213</td>\n",
              "      <td>110.702741</td>\n",
              "      <td>0.448949</td>\n",
              "      <td>0.188922</td>\n",
              "      <td>0.308997</td>\n",
              "      <td>0.112564</td>\n",
              "      <td>0.444784</td>\n",
              "      <td>0.445669</td>\n",
              "      <td>0.306557</td>\n",
              "      <td>0.319459</td>\n",
              "    </tr>\n",
              "    <tr>\n",
              "      <th>min</th>\n",
              "      <td>0.00000</td>\n",
              "      <td>0.000000e+00</td>\n",
              "      <td>0.000000e+00</td>\n",
              "      <td>0.000000</td>\n",
              "      <td>0.000000</td>\n",
              "      <td>0.000000</td>\n",
              "      <td>0.000000</td>\n",
              "      <td>0.000000</td>\n",
              "      <td>0.000000</td>\n",
              "      <td>0.000000</td>\n",
              "      <td>0.000000</td>\n",
              "      <td>0.000000</td>\n",
              "      <td>0.000000</td>\n",
              "      <td>0.000000</td>\n",
              "      <td>0.000000</td>\n",
              "      <td>0.000000</td>\n",
              "      <td>0.0</td>\n",
              "      <td>0.000000</td>\n",
              "      <td>0.000000</td>\n",
              "      <td>0.000000</td>\n",
              "      <td>0.000000</td>\n",
              "      <td>0.000000</td>\n",
              "      <td>0.000000</td>\n",
              "      <td>0.000000</td>\n",
              "      <td>0.000000</td>\n",
              "      <td>0.000000</td>\n",
              "      <td>0.000000</td>\n",
              "      <td>0.000000</td>\n",
              "      <td>0.000000</td>\n",
              "      <td>0.000000</td>\n",
              "      <td>0.000000</td>\n",
              "      <td>0.000000</td>\n",
              "      <td>0.000000</td>\n",
              "      <td>0.000000</td>\n",
              "      <td>0.000000</td>\n",
              "      <td>0.000000</td>\n",
              "      <td>0.000000</td>\n",
              "      <td>0.000000</td>\n",
              "    </tr>\n",
              "    <tr>\n",
              "      <th>25%</th>\n",
              "      <td>0.00000</td>\n",
              "      <td>0.000000e+00</td>\n",
              "      <td>0.000000e+00</td>\n",
              "      <td>0.000000</td>\n",
              "      <td>0.000000</td>\n",
              "      <td>0.000000</td>\n",
              "      <td>0.000000</td>\n",
              "      <td>0.000000</td>\n",
              "      <td>0.000000</td>\n",
              "      <td>0.000000</td>\n",
              "      <td>0.000000</td>\n",
              "      <td>0.000000</td>\n",
              "      <td>0.000000</td>\n",
              "      <td>0.000000</td>\n",
              "      <td>0.000000</td>\n",
              "      <td>0.000000</td>\n",
              "      <td>0.0</td>\n",
              "      <td>0.000000</td>\n",
              "      <td>0.000000</td>\n",
              "      <td>2.000000</td>\n",
              "      <td>2.000000</td>\n",
              "      <td>0.000000</td>\n",
              "      <td>0.000000</td>\n",
              "      <td>0.000000</td>\n",
              "      <td>0.000000</td>\n",
              "      <td>0.090000</td>\n",
              "      <td>0.000000</td>\n",
              "      <td>0.000000</td>\n",
              "      <td>82.000000</td>\n",
              "      <td>10.000000</td>\n",
              "      <td>0.050000</td>\n",
              "      <td>0.000000</td>\n",
              "      <td>0.000000</td>\n",
              "      <td>0.000000</td>\n",
              "      <td>0.000000</td>\n",
              "      <td>0.000000</td>\n",
              "      <td>0.000000</td>\n",
              "      <td>0.000000</td>\n",
              "    </tr>\n",
              "    <tr>\n",
              "      <th>50%</th>\n",
              "      <td>0.00000</td>\n",
              "      <td>4.400000e+01</td>\n",
              "      <td>0.000000e+00</td>\n",
              "      <td>0.000000</td>\n",
              "      <td>0.000000</td>\n",
              "      <td>0.000000</td>\n",
              "      <td>0.000000</td>\n",
              "      <td>0.000000</td>\n",
              "      <td>0.000000</td>\n",
              "      <td>0.000000</td>\n",
              "      <td>0.000000</td>\n",
              "      <td>0.000000</td>\n",
              "      <td>0.000000</td>\n",
              "      <td>0.000000</td>\n",
              "      <td>0.000000</td>\n",
              "      <td>0.000000</td>\n",
              "      <td>0.0</td>\n",
              "      <td>0.000000</td>\n",
              "      <td>0.000000</td>\n",
              "      <td>14.000000</td>\n",
              "      <td>8.000000</td>\n",
              "      <td>0.000000</td>\n",
              "      <td>0.000000</td>\n",
              "      <td>0.000000</td>\n",
              "      <td>0.000000</td>\n",
              "      <td>1.000000</td>\n",
              "      <td>0.000000</td>\n",
              "      <td>0.000000</td>\n",
              "      <td>255.000000</td>\n",
              "      <td>63.000000</td>\n",
              "      <td>0.510000</td>\n",
              "      <td>0.020000</td>\n",
              "      <td>0.000000</td>\n",
              "      <td>0.000000</td>\n",
              "      <td>0.000000</td>\n",
              "      <td>0.000000</td>\n",
              "      <td>0.000000</td>\n",
              "      <td>0.000000</td>\n",
              "    </tr>\n",
              "    <tr>\n",
              "      <th>75%</th>\n",
              "      <td>0.00000</td>\n",
              "      <td>2.760000e+02</td>\n",
              "      <td>5.160000e+02</td>\n",
              "      <td>0.000000</td>\n",
              "      <td>0.000000</td>\n",
              "      <td>0.000000</td>\n",
              "      <td>0.000000</td>\n",
              "      <td>0.000000</td>\n",
              "      <td>1.000000</td>\n",
              "      <td>0.000000</td>\n",
              "      <td>0.000000</td>\n",
              "      <td>0.000000</td>\n",
              "      <td>0.000000</td>\n",
              "      <td>0.000000</td>\n",
              "      <td>0.000000</td>\n",
              "      <td>0.000000</td>\n",
              "      <td>0.0</td>\n",
              "      <td>0.000000</td>\n",
              "      <td>0.000000</td>\n",
              "      <td>143.000000</td>\n",
              "      <td>18.000000</td>\n",
              "      <td>1.000000</td>\n",
              "      <td>1.000000</td>\n",
              "      <td>0.000000</td>\n",
              "      <td>0.000000</td>\n",
              "      <td>1.000000</td>\n",
              "      <td>0.060000</td>\n",
              "      <td>0.000000</td>\n",
              "      <td>255.000000</td>\n",
              "      <td>255.000000</td>\n",
              "      <td>1.000000</td>\n",
              "      <td>0.070000</td>\n",
              "      <td>0.060000</td>\n",
              "      <td>0.020000</td>\n",
              "      <td>1.000000</td>\n",
              "      <td>1.000000</td>\n",
              "      <td>0.000000</td>\n",
              "      <td>0.000000</td>\n",
              "    </tr>\n",
              "    <tr>\n",
              "      <th>max</th>\n",
              "      <td>42908.00000</td>\n",
              "      <td>1.379964e+09</td>\n",
              "      <td>1.309937e+09</td>\n",
              "      <td>1.000000</td>\n",
              "      <td>3.000000</td>\n",
              "      <td>3.000000</td>\n",
              "      <td>77.000000</td>\n",
              "      <td>5.000000</td>\n",
              "      <td>1.000000</td>\n",
              "      <td>7479.000000</td>\n",
              "      <td>1.000000</td>\n",
              "      <td>2.000000</td>\n",
              "      <td>7468.000000</td>\n",
              "      <td>43.000000</td>\n",
              "      <td>2.000000</td>\n",
              "      <td>9.000000</td>\n",
              "      <td>0.0</td>\n",
              "      <td>1.000000</td>\n",
              "      <td>1.000000</td>\n",
              "      <td>511.000000</td>\n",
              "      <td>511.000000</td>\n",
              "      <td>1.000000</td>\n",
              "      <td>1.000000</td>\n",
              "      <td>1.000000</td>\n",
              "      <td>1.000000</td>\n",
              "      <td>1.000000</td>\n",
              "      <td>1.000000</td>\n",
              "      <td>1.000000</td>\n",
              "      <td>255.000000</td>\n",
              "      <td>255.000000</td>\n",
              "      <td>1.000000</td>\n",
              "      <td>1.000000</td>\n",
              "      <td>1.000000</td>\n",
              "      <td>1.000000</td>\n",
              "      <td>1.000000</td>\n",
              "      <td>1.000000</td>\n",
              "      <td>1.000000</td>\n",
              "      <td>1.000000</td>\n",
              "    </tr>\n",
              "  </tbody>\n",
              "</table>\n",
              "</div>"
            ],
            "text/plain": [
              "           duration  ...  dst_host_srv_rerror_rate\n",
              "count  125973.00000  ...             125973.000000\n",
              "mean      287.14465  ...                  0.120240\n",
              "std      2604.51531  ...                  0.319459\n",
              "min         0.00000  ...                  0.000000\n",
              "25%         0.00000  ...                  0.000000\n",
              "50%         0.00000  ...                  0.000000\n",
              "75%         0.00000  ...                  0.000000\n",
              "max     42908.00000  ...                  1.000000\n",
              "\n",
              "[8 rows x 38 columns]"
            ]
          },
          "metadata": {
            "tags": []
          },
          "execution_count": 10
        }
      ]
    },
    {
      "cell_type": "code",
      "metadata": {
        "id": "Al8EL6E9eao_",
        "colab": {
          "base_uri": "https://localhost:8080/"
        },
        "outputId": "dff05729-33cf-4fd2-daef-18a8cbc49eed"
      },
      "source": [
        "df.info()"
      ],
      "execution_count": null,
      "outputs": [
        {
          "output_type": "stream",
          "text": [
            "<class 'pandas.core.frame.DataFrame'>\n",
            "RangeIndex: 125973 entries, 0 to 125972\n",
            "Data columns (total 42 columns):\n",
            " #   Column                       Non-Null Count   Dtype  \n",
            "---  ------                       --------------   -----  \n",
            " 0   duration                     125973 non-null  int64  \n",
            " 1   protocol_type                125973 non-null  object \n",
            " 2   service                      125973 non-null  object \n",
            " 3   flag                         125973 non-null  object \n",
            " 4   src_bytes                    125973 non-null  int64  \n",
            " 5   dst_bytes                    125973 non-null  int64  \n",
            " 6   land                         125973 non-null  int64  \n",
            " 7   wrong_fragment               125973 non-null  int64  \n",
            " 8   urgent                       125973 non-null  int64  \n",
            " 9   hot                          125973 non-null  int64  \n",
            " 10  num_failed_logins            125973 non-null  int64  \n",
            " 11  logged_in                    125973 non-null  int64  \n",
            " 12  num_compromised              125973 non-null  int64  \n",
            " 13  root_shell                   125973 non-null  int64  \n",
            " 14  su_attempted                 125973 non-null  int64  \n",
            " 15  num_root                     125973 non-null  int64  \n",
            " 16  num_file_creations           125973 non-null  int64  \n",
            " 17  num_shells                   125973 non-null  int64  \n",
            " 18  num_access_files             125973 non-null  int64  \n",
            " 19  num_outbound_cmds            125973 non-null  int64  \n",
            " 20  is_host_login                125973 non-null  int64  \n",
            " 21  is_guest_login               125973 non-null  int64  \n",
            " 22  count                        125973 non-null  int64  \n",
            " 23  srv_count                    125973 non-null  int64  \n",
            " 24  serror_rate                  125973 non-null  float64\n",
            " 25  srv_serror_rate              125973 non-null  float64\n",
            " 26  rerror_rate                  125973 non-null  float64\n",
            " 27  srv_rerror_rate              125973 non-null  float64\n",
            " 28  same_srv_rate                125973 non-null  float64\n",
            " 29  diff_srv_rate                125973 non-null  float64\n",
            " 30  srv_diff_host_rate           125973 non-null  float64\n",
            " 31  dst_host_count               125973 non-null  int64  \n",
            " 32  dst_host_srv_count           125973 non-null  int64  \n",
            " 33  dst_host_same_srv_rate       125973 non-null  float64\n",
            " 34  dst_host_diff_srv_rate       125973 non-null  float64\n",
            " 35  dst_host_same_src_port_rate  125973 non-null  float64\n",
            " 36  dst_host_srv_diff_host_rate  125973 non-null  float64\n",
            " 37  dst_host_serror_rate         125973 non-null  float64\n",
            " 38  dst_host_srv_serror_rate     125973 non-null  float64\n",
            " 39  dst_host_rerror_rate         125973 non-null  float64\n",
            " 40  dst_host_srv_rerror_rate     125973 non-null  float64\n",
            " 41  label                        125973 non-null  object \n",
            "dtypes: float64(15), int64(23), object(4)\n",
            "memory usage: 40.4+ MB\n"
          ],
          "name": "stdout"
        }
      ]
    },
    {
      "cell_type": "code",
      "metadata": {
        "id": "2Zm0Qjm4Pe92",
        "colab": {
          "base_uri": "https://localhost:8080/"
        },
        "outputId": "7e7ca12d-0605-48cf-b7b3-d91c196147c8"
      },
      "source": [
        "print('Label distribution Training set:')\n",
        "print(df['label'].value_counts())\n",
        "print()\n",
        "print('Label distribution Test set:')\n",
        "print(df_test['label'].value_counts())"
      ],
      "execution_count": null,
      "outputs": [
        {
          "output_type": "stream",
          "text": [
            "Label distribution Training set:\n",
            "normal             67343\n",
            "neptune            41214\n",
            "satan               3633\n",
            "ipsweep             3599\n",
            "portsweep           2931\n",
            "smurf               2646\n",
            "nmap                1493\n",
            "back                 956\n",
            "teardrop             892\n",
            "warezclient          890\n",
            "pod                  201\n",
            "guess_passwd          53\n",
            "buffer_overflow       30\n",
            "warezmaster           20\n",
            "land                  18\n",
            "imap                  11\n",
            "rootkit               10\n",
            "loadmodule             9\n",
            "ftp_write              8\n",
            "multihop               7\n",
            "phf                    4\n",
            "perl                   3\n",
            "spy                    2\n",
            "Name: label, dtype: int64\n",
            "\n",
            "Label distribution Test set:\n",
            "normal             9710\n",
            "neptune            4657\n",
            "guess_passwd       1231\n",
            "mscan               996\n",
            "warezmaster         944\n",
            "apache2             737\n",
            "satan               735\n",
            "processtable        685\n",
            "smurf               665\n",
            "back                359\n",
            "snmpguess           331\n",
            "saint               319\n",
            "mailbomb            293\n",
            "snmpgetattack       178\n",
            "portsweep           157\n",
            "ipsweep             141\n",
            "httptunnel          133\n",
            "nmap                 73\n",
            "pod                  41\n",
            "buffer_overflow      20\n",
            "multihop             18\n",
            "named                17\n",
            "ps                   15\n",
            "sendmail             14\n",
            "xterm                13\n",
            "rootkit              13\n",
            "teardrop             12\n",
            "xlock                 9\n",
            "land                  7\n",
            "xsnoop                4\n",
            "ftp_write             3\n",
            "worm                  2\n",
            "loadmodule            2\n",
            "phf                   2\n",
            "sqlattack             2\n",
            "udpstorm              2\n",
            "perl                  2\n",
            "imap                  1\n",
            "Name: label, dtype: int64\n"
          ],
          "name": "stdout"
        }
      ]
    },
    {
      "cell_type": "code",
      "metadata": {
        "id": "TYsF_j3D_vfp",
        "colab": {
          "base_uri": "https://localhost:8080/"
        },
        "outputId": "c3879ed8-fba4-421d-f07e-8486a8d0ab15"
      },
      "source": [
        "print('Training set:')\n",
        "for col_name in df.columns:\n",
        "    if df[col_name].dtypes == 'object' :\n",
        "        unique_cat = len(df[col_name].unique())\n",
        "        print(\"Feature '{col_name}' has {unique_cat} categories\".format(col_name=col_name, unique_cat=unique_cat))\n",
        "print()\n",
        "print('Distribution of categories in service:')\n",
        "print(df['service'].value_counts().sort_values(ascending=False).head())"
      ],
      "execution_count": null,
      "outputs": [
        {
          "output_type": "stream",
          "text": [
            "Training set:\n",
            "Feature 'protocol_type' has 3 categories\n",
            "Feature 'service' has 70 categories\n",
            "Feature 'flag' has 11 categories\n",
            "Feature 'label' has 23 categories\n",
            "\n",
            "Distribution of categories in service:\n",
            "http        40338\n",
            "private     21853\n",
            "domain_u     9043\n",
            "smtp         7313\n",
            "ftp_data     6860\n",
            "Name: service, dtype: int64\n"
          ],
          "name": "stdout"
        }
      ]
    },
    {
      "cell_type": "code",
      "metadata": {
        "id": "pwYeEMlrPqL_",
        "colab": {
          "base_uri": "https://localhost:8080/"
        },
        "outputId": "2bfd96d8-e188-46ef-eebb-fa04020933ee"
      },
      "source": [
        "print('Test set:')\n",
        "for col_name in df_test.columns:\n",
        "    if df_test[col_name].dtypes == 'object' :\n",
        "        unique_cat = len(df_test[col_name].unique())\n",
        "        print(\"Feature '{col_name}' has {unique_cat} categories\".format(col_name=col_name, unique_cat=unique_cat))"
      ],
      "execution_count": null,
      "outputs": [
        {
          "output_type": "stream",
          "text": [
            "Test set:\n",
            "Feature 'protocol_type' has 3 categories\n",
            "Feature 'service' has 63 categories\n",
            "Feature 'flag' has 11 categories\n",
            "Feature 'label' has 38 categories\n"
          ],
          "name": "stdout"
        }
      ]
    },
    {
      "cell_type": "code",
      "metadata": {
        "id": "RlDoSY7pP8mv",
        "colab": {
          "base_uri": "https://localhost:8080/",
          "height": 204
        },
        "outputId": "7fbede87-30c2-4f9b-a281-3b22f9f398fe"
      },
      "source": [
        "from sklearn.preprocessing import LabelEncoder,OneHotEncoder\n",
        "categorical_columns=['protocol_type', 'service', 'flag']\n",
        "df_categorical_values = df[categorical_columns]\n",
        "testdf_categorical_values = df_test[categorical_columns]\n",
        "df_categorical_values.head()"
      ],
      "execution_count": null,
      "outputs": [
        {
          "output_type": "execute_result",
          "data": {
            "text/html": [
              "<div>\n",
              "<style scoped>\n",
              "    .dataframe tbody tr th:only-of-type {\n",
              "        vertical-align: middle;\n",
              "    }\n",
              "\n",
              "    .dataframe tbody tr th {\n",
              "        vertical-align: top;\n",
              "    }\n",
              "\n",
              "    .dataframe thead th {\n",
              "        text-align: right;\n",
              "    }\n",
              "</style>\n",
              "<table border=\"1\" class=\"dataframe\">\n",
              "  <thead>\n",
              "    <tr style=\"text-align: right;\">\n",
              "      <th></th>\n",
              "      <th>protocol_type</th>\n",
              "      <th>service</th>\n",
              "      <th>flag</th>\n",
              "    </tr>\n",
              "  </thead>\n",
              "  <tbody>\n",
              "    <tr>\n",
              "      <th>0</th>\n",
              "      <td>tcp</td>\n",
              "      <td>ftp_data</td>\n",
              "      <td>SF</td>\n",
              "    </tr>\n",
              "    <tr>\n",
              "      <th>1</th>\n",
              "      <td>udp</td>\n",
              "      <td>other</td>\n",
              "      <td>SF</td>\n",
              "    </tr>\n",
              "    <tr>\n",
              "      <th>2</th>\n",
              "      <td>tcp</td>\n",
              "      <td>private</td>\n",
              "      <td>S0</td>\n",
              "    </tr>\n",
              "    <tr>\n",
              "      <th>3</th>\n",
              "      <td>tcp</td>\n",
              "      <td>http</td>\n",
              "      <td>SF</td>\n",
              "    </tr>\n",
              "    <tr>\n",
              "      <th>4</th>\n",
              "      <td>tcp</td>\n",
              "      <td>http</td>\n",
              "      <td>SF</td>\n",
              "    </tr>\n",
              "  </tbody>\n",
              "</table>\n",
              "</div>"
            ],
            "text/plain": [
              "  protocol_type   service flag\n",
              "0           tcp  ftp_data   SF\n",
              "1           udp     other   SF\n",
              "2           tcp   private   S0\n",
              "3           tcp      http   SF\n",
              "4           tcp      http   SF"
            ]
          },
          "metadata": {
            "tags": []
          },
          "execution_count": 14
        }
      ]
    },
    {
      "cell_type": "code",
      "metadata": {
        "id": "REIbAi0sQFx4",
        "colab": {
          "base_uri": "https://localhost:8080/"
        },
        "outputId": "89b06940-0347-4261-cac8-7370ee82f8d6"
      },
      "source": [
        "unique_protocol=sorted(df.protocol_type.unique())\n",
        "string1 = 'Protocol_type_'\n",
        "unique_protocol2=[string1 + x for x in unique_protocol]\n",
        "# service\n",
        "unique_service=sorted(df.service.unique())\n",
        "string2 = 'service_'\n",
        "unique_service2=[string2 + x for x in unique_service]\n",
        "# flag\n",
        "unique_flag=sorted(df.flag.unique())\n",
        "string3 = 'flag_'\n",
        "unique_flag2=[string3 + x for x in unique_flag]\n",
        "# put together\n",
        "dumcols=unique_protocol2 + unique_service2 + unique_flag2\n",
        "print(dumcols)\n",
        "unique_service_test=sorted(df_test.service.unique())\n",
        "unique_service2_test=[string2 + x for x in unique_service_test]\n",
        "testdumcols=unique_protocol2 + unique_service2_test + unique_flag2"
      ],
      "execution_count": null,
      "outputs": [
        {
          "output_type": "stream",
          "text": [
            "['Protocol_type_icmp', 'Protocol_type_tcp', 'Protocol_type_udp', 'service_IRC', 'service_X11', 'service_Z39_50', 'service_aol', 'service_auth', 'service_bgp', 'service_courier', 'service_csnet_ns', 'service_ctf', 'service_daytime', 'service_discard', 'service_domain', 'service_domain_u', 'service_echo', 'service_eco_i', 'service_ecr_i', 'service_efs', 'service_exec', 'service_finger', 'service_ftp', 'service_ftp_data', 'service_gopher', 'service_harvest', 'service_hostnames', 'service_http', 'service_http_2784', 'service_http_443', 'service_http_8001', 'service_imap4', 'service_iso_tsap', 'service_klogin', 'service_kshell', 'service_ldap', 'service_link', 'service_login', 'service_mtp', 'service_name', 'service_netbios_dgm', 'service_netbios_ns', 'service_netbios_ssn', 'service_netstat', 'service_nnsp', 'service_nntp', 'service_ntp_u', 'service_other', 'service_pm_dump', 'service_pop_2', 'service_pop_3', 'service_printer', 'service_private', 'service_red_i', 'service_remote_job', 'service_rje', 'service_shell', 'service_smtp', 'service_sql_net', 'service_ssh', 'service_sunrpc', 'service_supdup', 'service_systat', 'service_telnet', 'service_tftp_u', 'service_tim_i', 'service_time', 'service_urh_i', 'service_urp_i', 'service_uucp', 'service_uucp_path', 'service_vmnet', 'service_whois', 'flag_OTH', 'flag_REJ', 'flag_RSTO', 'flag_RSTOS0', 'flag_RSTR', 'flag_S0', 'flag_S1', 'flag_S2', 'flag_S3', 'flag_SF', 'flag_SH']\n"
          ],
          "name": "stdout"
        }
      ]
    },
    {
      "cell_type": "code",
      "metadata": {
        "id": "vJIs7RDnQKQI",
        "colab": {
          "base_uri": "https://localhost:8080/"
        },
        "outputId": "9118bb5b-05de-44af-bb4c-6f6c80ec26d7"
      },
      "source": [
        "df_categorical_values_enc=df_categorical_values.apply(LabelEncoder().fit_transform)\n",
        "print(df_categorical_values_enc.head(10))\n",
        "testdf_categorical_values_enc=testdf_categorical_values.apply(LabelEncoder().fit_transform)"
      ],
      "execution_count": null,
      "outputs": [
        {
          "output_type": "stream",
          "text": [
            "   protocol_type  service  flag\n",
            "0              1       20     9\n",
            "1              2       44     9\n",
            "2              1       49     5\n",
            "3              1       24     9\n",
            "4              1       24     9\n",
            "5              1       49     1\n",
            "6              1       49     5\n",
            "7              1       49     5\n",
            "8              1       51     5\n",
            "9              1       49     5\n"
          ],
          "name": "stdout"
        }
      ]
    },
    {
      "cell_type": "code",
      "metadata": {
        "id": "WfGYaTbCQOtD",
        "colab": {
          "base_uri": "https://localhost:8080/"
        },
        "outputId": "25c4ddb0-45af-44ca-d922-c931e65d7ec8"
      },
      "source": [
        "enc = OneHotEncoder()\n",
        "df_categorical_values_encenc = enc.fit_transform(df_categorical_values_enc)\n",
        "df_cat_data = pd.DataFrame(df_categorical_values_encenc.toarray(),columns=dumcols)\n",
        "# test set\n",
        "testdf_categorical_values_encenc = enc.fit_transform(testdf_categorical_values_enc)\n",
        "testdf_cat_data = pd.DataFrame(testdf_categorical_values_encenc.toarray(),columns=testdumcols)\n",
        "df_cat_data.shape\n",
        "#df_cat_data.head()"
      ],
      "execution_count": null,
      "outputs": [
        {
          "output_type": "execute_result",
          "data": {
            "text/plain": [
              "(125973, 84)"
            ]
          },
          "metadata": {
            "tags": []
          },
          "execution_count": 17
        }
      ]
    },
    {
      "cell_type": "code",
      "metadata": {
        "id": "KeTvlphEN5nv",
        "colab": {
          "base_uri": "https://localhost:8080/"
        },
        "outputId": "1f914e59-8fc3-4caf-f46f-3aef75a9ec59"
      },
      "source": [
        "testdf_cat_data.shape"
      ],
      "execution_count": null,
      "outputs": [
        {
          "output_type": "execute_result",
          "data": {
            "text/plain": [
              "(22543, 77)"
            ]
          },
          "metadata": {
            "tags": []
          },
          "execution_count": 18
        }
      ]
    },
    {
      "cell_type": "code",
      "metadata": {
        "id": "1WuQATiTQS03",
        "colab": {
          "base_uri": "https://localhost:8080/"
        },
        "outputId": "47d59c19-95e2-4d4d-9b71-612084188139"
      },
      "source": [
        "trainservice=df['service'].tolist()\n",
        "testservice= df_test['service'].tolist()\n",
        "difference=list(set(trainservice) - set(testservice))\n",
        "string = 'service_'\n",
        "difference=[string + x for x in difference]\n",
        "difference"
      ],
      "execution_count": null,
      "outputs": [
        {
          "output_type": "execute_result",
          "data": {
            "text/plain": [
              "['service_tftp_u',\n",
              " 'service_aol',\n",
              " 'service_http_8001',\n",
              " 'service_urh_i',\n",
              " 'service_harvest',\n",
              " 'service_http_2784',\n",
              " 'service_red_i']"
            ]
          },
          "metadata": {
            "tags": []
          },
          "execution_count": 19
        }
      ]
    },
    {
      "cell_type": "code",
      "metadata": {
        "id": "m1Cr0DDeQWr2",
        "colab": {
          "base_uri": "https://localhost:8080/"
        },
        "outputId": "3a89c017-791c-4249-86f0-32921fed5f35"
      },
      "source": [
        "for col in difference:\n",
        "    testdf_cat_data[col] = 0\n",
        "testdf_cat_data.shape"
      ],
      "execution_count": null,
      "outputs": [
        {
          "output_type": "execute_result",
          "data": {
            "text/plain": [
              "(22543, 84)"
            ]
          },
          "metadata": {
            "tags": []
          },
          "execution_count": 20
        }
      ]
    },
    {
      "cell_type": "code",
      "metadata": {
        "id": "uVUqFfufQWm7",
        "colab": {
          "base_uri": "https://localhost:8080/"
        },
        "outputId": "86a01ecb-fe1b-4ad6-a1cb-99b90c3c01a2"
      },
      "source": [
        "newdf=df.join(df_cat_data)\n",
        "newdf.drop('flag', axis=1, inplace=True)\n",
        "newdf.drop('protocol_type', axis=1, inplace=True)\n",
        "newdf.drop('service', axis=1, inplace=True)\n",
        "# test data\n",
        "newdf_test=df_test.join(testdf_cat_data)\n",
        "newdf_test.drop('flag', axis=1, inplace=True)\n",
        "newdf_test.drop('protocol_type', axis=1, inplace=True)\n",
        "newdf_test.drop('service', axis=1, inplace=True)\n",
        "print('Dimensions of the Training set:',newdf.shape)\n",
        "print('Dimensions of the Test set:',newdf_test.shape)"
      ],
      "execution_count": null,
      "outputs": [
        {
          "output_type": "stream",
          "text": [
            "Dimensions of the Training set: (125973, 123)\n",
            "Dimensions of the Test set: (22543, 123)\n"
          ],
          "name": "stdout"
        }
      ]
    },
    {
      "cell_type": "code",
      "metadata": {
        "id": "bVOg0egWQY_F",
        "colab": {
          "base_uri": "https://localhost:8080/"
        },
        "outputId": "2380f15b-dba9-4a3b-f1e0-26cbe2a8cae0"
      },
      "source": [
        "labeldf=newdf['label']\n",
        "labeldf_test=newdf_test['label']\n",
        "newlabeldf=labeldf.replace({ 'normal' : 0, 'neptune' : 1 ,'back': 1, 'land': 1, 'pod': 1, 'smurf': 1, 'teardrop': 1,'mailbomb': 1, 'apache2': 1, 'processtable': 1, 'udpstorm': 1, 'worm': 1,\n",
        "                           'ipsweep' : 2,'nmap' : 2,'portsweep' : 2,'satan' : 2,'mscan' : 2,'saint' : 2\n",
        "                           ,'ftp_write': 3,'guess_passwd': 3,'imap': 3,'multihop': 3,'phf': 3,'spy': 3,'warezclient': 3,'warezmaster': 3,'sendmail': 3,'named': 3,'snmpgetattack': 3,'snmpguess': 3,'xlock': 3,'xsnoop': 3,'httptunnel': 3,\n",
        "                           'buffer_overflow': 4,'loadmodule': 4,'perl': 4,'rootkit': 4,'ps': 4,'sqlattack': 4,'xterm': 4})\n",
        "newlabeldf_test=labeldf_test.replace({ 'normal' : 0, 'neptune' : 1 ,'back': 1, 'land': 1, 'pod': 1, 'smurf': 1, 'teardrop': 1,'mailbomb': 1, 'apache2': 1, 'processtable': 1, 'udpstorm': 1, 'worm': 1,\n",
        "                           'ipsweep' : 2,'nmap' : 2,'portsweep' : 2,'satan' : 2,'mscan' : 2,'saint' : 2\n",
        "                           ,'ftp_write': 3,'guess_passwd': 3,'imap': 3,'multihop': 3,'phf': 3,'spy': 3,'warezclient': 3,'warezmaster': 3,'sendmail': 3,'named': 3,'snmpgetattack': 3,'snmpguess': 3,'xlock': 3,'xsnoop': 3,'httptunnel': 3,\n",
        "                           'buffer_overflow': 4,'loadmodule': 4,'perl': 4,'rootkit': 4,'ps': 4,'sqlattack': 4,'xterm': 4})\n",
        "\n",
        "newdf['label'] = newlabeldf\n",
        "newdf_test['label'] = newlabeldf_test\n",
        "print(newdf['label'].head())"
      ],
      "execution_count": null,
      "outputs": [
        {
          "output_type": "stream",
          "text": [
            "0    0\n",
            "1    0\n",
            "2    1\n",
            "3    0\n",
            "4    0\n",
            "Name: label, dtype: int64\n"
          ],
          "name": "stdout"
        }
      ]
    },
    {
      "cell_type": "code",
      "metadata": {
        "colab": {
          "base_uri": "https://localhost:8080/",
          "height": 395
        },
        "id": "P2Yki9K9-EL_",
        "outputId": "dc767a14-062f-4e4e-841d-a04224a719f2"
      },
      "source": [
        "import seaborn as sns\n",
        "plt.figure(figsize=(10, 6))\n",
        "sns.set_theme(style=\"darkgrid\")\n",
        "ax = sns.countplot(x=newdf['label'], data=newdf)\n",
        "for p in ax.patches:\n",
        "  ax.annotate(format(p.get_height(), '.2f'), (p.get_x() + p.get_width() / 2., p.get_height()), ha = 'center', va = 'center', xytext = (0, 10), textcoords = 'offset points')"
      ],
      "execution_count": null,
      "outputs": [
        {
          "output_type": "display_data",
          "data": {
            "image/png": "[encoded data removed]",
            "text/plain": [
              "<Figure size 720x432 with 1 Axes>"
            ]
          },
          "metadata": {
            "tags": [],
            "needs_background": "light"
          }
        }
      ]
    },
    {
      "cell_type": "code",
      "metadata": {
        "colab": {
          "base_uri": "https://localhost:8080/",
          "height": 395
        },
        "id": "QOQHUH8c_TG9",
        "outputId": "8d22883f-9e17-48e7-eedd-4cf8dd2c01f6"
      },
      "source": [
        "import seaborn as sns\n",
        "plt.figure(figsize=(10, 6))\n",
        "sns.set_theme(style=\"darkgrid\")\n",
        "ax = sns.countplot(x=newdf_test['label'], data=newdf_test)\n",
        "for p in ax.patches:\n",
        "  ax.annotate(format(p.get_height(), '.2f'), (p.get_x() + p.get_width() / 2., p.get_height()), ha = 'center', va = 'center', xytext = (0, 10), textcoords = 'offset points')"
      ],
      "execution_count": null,
      "outputs": [
        {
          "output_type": "display_data",
          "data": {
            "image/png": "[encoded data removed]",
            "text/plain": [
              "<Figure size 720x432 with 1 Axes>"
            ]
          },
          "metadata": {
            "tags": []
          }
        }
      ]
    },
    {
      "cell_type": "code",
      "metadata": {
        "id": "V5AHn-XsOCeE"
      },
      "source": [
        "X_train,Y_train,X_test,Y_test = newdf,newdf['label'],newdf_test,newdf_test['label']"
      ],
      "execution_count": null,
      "outputs": []
    },
    {
      "cell_type": "code",
      "metadata": {
        "id": "JetJQMCgKKH9"
      },
      "source": [
        "colNames=list(X_train)\n",
        "colNames_test=list(X_test)"
      ],
      "execution_count": null,
      "outputs": []
    },
    {
      "cell_type": "code",
      "metadata": {
        "id": "SG-SrQZEKRa4"
      },
      "source": [
        "from sklearn import preprocessing\n",
        "scaler1 = preprocessing.StandardScaler().fit(X_train)\n",
        "X_train=scaler1.transform(X_train) "
      ],
      "execution_count": null,
      "outputs": []
    },
    {
      "cell_type": "code",
      "metadata": {
        "id": "sn7GgYYpKRkT"
      },
      "source": [
        "X_train.std(axis=0);"
      ],
      "execution_count": null,
      "outputs": []
    },
    {
      "cell_type": "code",
      "metadata": {
        "id": "P5W8e0IHLFYv",
        "colab": {
          "base_uri": "https://localhost:8080/"
        },
        "outputId": "96db81b5-16fe-4690-b5c8-78880cc32e7c"
      },
      "source": [
        "from sklearn.feature_selection import SelectPercentile, f_classif\n",
        "np.seterr(divide='ignore', invalid='ignore');\n",
        "selector=SelectPercentile(f_classif, percentile=30)#20-73%,\n",
        "train_X_new = selector.fit_transform(X_train,Y_train)\n",
        "train_X_new.shape"
      ],
      "execution_count": null,
      "outputs": [
        {
          "output_type": "stream",
          "text": [
            "/usr/local/lib/python3.6/dist-packages/sklearn/feature_selection/_univariate_selection.py:114: UserWarning: Features [16] are constant.\n",
            "  UserWarning)\n"
          ],
          "name": "stderr"
        },
        {
          "output_type": "execute_result",
          "data": {
            "text/plain": [
              "(125973, 37)"
            ]
          },
          "metadata": {
            "tags": []
          },
          "execution_count": 29
        }
      ]
    },
    {
      "cell_type": "code",
      "metadata": {
        "id": "wldSZeUcLGRT",
        "colab": {
          "base_uri": "https://localhost:8080/"
        },
        "outputId": "2eff945c-f7a7-442f-d6f0-440a8b1cb192"
      },
      "source": [
        "true=selector.get_support()\n",
        "newcolindex=[i for i, x in enumerate(true) if x]\n",
        "newcolname=list( colNames[i] for i in newcolindex )\n",
        "print(newcolname)"
      ],
      "execution_count": null,
      "outputs": [
        {
          "output_type": "stream",
          "text": [
            "['duration', 'hot', 'logged_in', 'root_shell', 'is_guest_login', 'count', 'serror_rate', 'srv_serror_rate', 'rerror_rate', 'srv_rerror_rate', 'same_srv_rate', 'diff_srv_rate', 'srv_diff_host_rate', 'dst_host_count', 'dst_host_srv_count', 'dst_host_same_srv_rate', 'dst_host_diff_srv_rate', 'dst_host_same_src_port_rate', 'dst_host_srv_diff_host_rate', 'dst_host_serror_rate', 'dst_host_srv_serror_rate', 'dst_host_rerror_rate', 'dst_host_srv_rerror_rate', 'Protocol_type_icmp', 'Protocol_type_tcp', 'Protocol_type_udp', 'service_domain_u', 'service_eco_i', 'service_ftp', 'service_ftp_data', 'service_http', 'service_other', 'service_private', 'flag_REJ', 'flag_RSTR', 'flag_S0', 'flag_SF']\n"
          ],
          "name": "stdout"
        }
      ]
    },
    {
      "cell_type": "code",
      "metadata": {
        "id": "BE3kXs0oW4cW",
        "colab": {
          "base_uri": "https://localhost:8080/"
        },
        "outputId": "5686a58f-5cee-4e33-d3b4-4dc55903ad0f"
      },
      "source": [
        "X_test = X_test[newcolname]\n",
        "scaler2 = preprocessing.StandardScaler().fit(X_test)\n",
        "X_test=scaler2.transform(X_test) \n",
        "X_test.shape"
      ],
      "execution_count": null,
      "outputs": [
        {
          "output_type": "execute_result",
          "data": {
            "text/plain": [
              "(22543, 37)"
            ]
          },
          "metadata": {
            "tags": []
          },
          "execution_count": 31
        }
      ]
    },
    {
      "cell_type": "code",
      "metadata": {
        "colab": {
          "base_uri": "https://localhost:8080/"
        },
        "id": "rNVC_KvAbmkM",
        "outputId": "5bba8eb5-9458-47b8-841d-f1cee4cfb4e2"
      },
      "source": [
        "print('Dimensions of the Training set after feature selection:',train_X_new.shape)\n",
        "print('Dimensions of the Test set after selected features:',X_test.shape)"
      ],
      "execution_count": null,
      "outputs": [
        {
          "output_type": "stream",
          "text": [
            "Dimensions of the Training set after feature selection: (125973, 37)\n",
            "Dimensions of the Test set after selected features: (22543, 37)\n"
          ],
          "name": "stdout"
        }
      ]
    },
    {
      "cell_type": "code",
      "metadata": {
        "id": "6pISzeHyB28-"
      },
      "source": [
        "train_X = torch.Tensor(train_X_new)\n",
        "train_y = torch.Tensor(Y_train).long()\n",
        "test_X = torch.Tensor(X_test)\n",
        "test_y = torch.Tensor(Y_test).long()"
      ],
      "execution_count": null,
      "outputs": []
    },
    {
      "cell_type": "code",
      "metadata": {
        "id": "nuwnq1Z53vKS",
        "colab": {
          "base_uri": "https://localhost:8080/"
        },
        "outputId": "3fe2a7e4-fff3-47cb-812d-50232815512e"
      },
      "source": [
        "device = torch.device(\"cuda:0\" if torch.cuda.is_available() else \"cpu\")\n",
        "print(device)"
      ],
      "execution_count": null,
      "outputs": [
        {
          "output_type": "stream",
          "text": [
            "cpu\n"
          ],
          "name": "stdout"
        }
      ]
    },
    {
      "cell_type": "code",
      "metadata": {
        "id": "EaN5uXcfUmyY"
      },
      "source": [
        "train_X = train_X.to(device)\n",
        "train_y = train_y.to(device)\n",
        "test_X = test_X.to(device)\n",
        "test_y = test_y.to(device)"
      ],
      "execution_count": null,
      "outputs": []
    },
    {
      "cell_type": "code",
      "metadata": {
        "id": "GMlnxMyNATrW"
      },
      "source": [
        "class Net(nn.Module):\n",
        "    # define nn\n",
        "    def __init__(self):\n",
        "        super(Net, self).__init__()\n",
        "        self.fc1 = nn.Linear(25, 600)\n",
        "        self.fc2 = nn.Linear(600, 600)\n",
        "        self.fc3 = nn.Linear(600, 400)\n",
        "        self.fc4 = nn.Linear(400, 400)\n",
        "        self.fc5 = nn.Linear(400, 200)\n",
        "        self.fc6 = nn.Linear(200, 200)\n",
        "        self.fc7 = nn.Linear(200, 100)\n",
        "        self.fc8 = nn.Linear(100, 100)\n",
        "        self.fc9 = nn.Linear(100, 5)\n",
        "        self.softmax = nn.Softmax(dim=1)\n",
        "    def forward(self, X):\n",
        "        X = F.relu(self.fc1(X))\n",
        "        X = self.fc2(X)\n",
        "        X = F.relu(self.fc2(X))\n",
        "        X = self.fc3(X)\n",
        "        X = self.fc4(X)\n",
        "        X = F.relu(self.fc4(X))\n",
        "        X = self.fc5(X)\n",
        "        X = self.fc6(X)\n",
        "        X = F.relu(self.fc6(X))\n",
        "        X = self.fc7(X)\n",
        "        X = self.fc8(X)\n",
        "        X = F.relu(self.fc8(X))\n",
        "        X = self.fc9(X)\n",
        "        X = self.softmax(X)\n",
        "        return X"
      ],
      "execution_count": null,
      "outputs": []
    },
    {
      "cell_type": "code",
      "metadata": {
        "id": "n_18gcoFVTJ_"
      },
      "source": [
        "def evaluation(X,Y):\n",
        "  total, correct = 0, 0\n",
        "  outputs = net(X)\n",
        "  _, pred = torch.max(outputs.data, 1)\n",
        "  total += Y.size(0)\n",
        "  correct += (pred == Y).sum().item()\n",
        "  return 100 * correct / total"
      ],
      "execution_count": null,
      "outputs": []
    },
    {
      "cell_type": "code",
      "metadata": {
        "id": "SlvNbTesAbeQ"
      },
      "source": [
        "net = Net().to(device)\n",
        "loss_epoch = []\n",
        "criterion = nn.CrossEntropyLoss()# cross entropy loss\n",
        "optimizer = torch.optim.SGD(net.parameters(), lr=0.01,momentum=0.9)\n",
        "max_epochs = 200"
      ],
      "execution_count": null,
      "outputs": []
    },
    {
      "cell_type": "code",
      "metadata": {
        "id": "ALvx7H5V5CBN",
        "colab": {
          "base_uri": "https://localhost:8080/",
          "height": 1000
        },
        "outputId": "f2a625a9-7888-498e-ab97-d279dd2d1ea5"
      },
      "source": [
        "for epoch in range(200):\n",
        "    optimizer.zero_grad()\n",
        "    out = net(train_X)\n",
        "    loss = criterion(out, train_y)\n",
        "    loss.backward()\n",
        "    optimizer.step()\n",
        "    if epoch % 10 == 0:\n",
        "        print('number of epoch', epoch, 'loss', loss.data)\n",
        "    loss_epoch.append(loss.item())\n",
        "    print('Epoch: %d/%d, Test acc: %0.2f, Train acc: %0.2f' % (epoch, max_epochs, evaluation(test_X,test_y), evaluation(train_X,train_y)))\n",
        "plt.plot(loss_epoch)\n",
        "plt.show()\n",
        "predict_out = net(test_X)\n",
        "_, predict_y = torch.max(predict_out, 1)\n",
        "print('prediction accuracy', accuracy_score(test_y.cpu().data.numpy(),predict_y.cpu().data.numpy()))"
      ],
      "execution_count": null,
      "outputs": [
        {
          "output_type": "stream",
          "text": [
            "number of epoch 0 loss tensor(1.6069, device='cuda:0')\n",
            "Epoch: 0/200, Test acc: 43.07, Train acc: 53.46\n",
            "Epoch: 1/200, Test acc: 43.07, Train acc: 53.46\n",
            "Epoch: 2/200, Test acc: 43.07, Train acc: 53.46\n",
            "Epoch: 3/200, Test acc: 43.07, Train acc: 53.46\n",
            "Epoch: 4/200, Test acc: 43.07, Train acc: 53.46\n",
            "Epoch: 5/200, Test acc: 43.07, Train acc: 53.46\n",
            "Epoch: 6/200, Test acc: 43.07, Train acc: 53.46\n",
            "Epoch: 7/200, Test acc: 43.07, Train acc: 53.46\n",
            "Epoch: 8/200, Test acc: 43.07, Train acc: 53.46\n",
            "Epoch: 9/200, Test acc: 43.07, Train acc: 53.46\n",
            "number of epoch 10 loss tensor(1.6008, device='cuda:0')\n",
            "Epoch: 10/200, Test acc: 43.07, Train acc: 53.46\n",
            "Epoch: 11/200, Test acc: 43.07, Train acc: 53.46\n",
            "Epoch: 12/200, Test acc: 43.07, Train acc: 53.46\n",
            "Epoch: 13/200, Test acc: 43.07, Train acc: 53.46\n",
            "Epoch: 14/200, Test acc: 43.07, Train acc: 53.46\n",
            "Epoch: 15/200, Test acc: 43.07, Train acc: 53.46\n",
            "Epoch: 16/200, Test acc: 43.07, Train acc: 53.46\n",
            "Epoch: 17/200, Test acc: 43.07, Train acc: 53.46\n",
            "Epoch: 18/200, Test acc: 43.07, Train acc: 53.46\n",
            "Epoch: 19/200, Test acc: 43.07, Train acc: 53.46\n",
            "number of epoch 20 loss tensor(1.5890, device='cuda:0')\n",
            "Epoch: 20/200, Test acc: 43.07, Train acc: 53.46\n",
            "Epoch: 21/200, Test acc: 43.07, Train acc: 53.46\n",
            "Epoch: 22/200, Test acc: 43.07, Train acc: 53.46\n",
            "Epoch: 23/200, Test acc: 43.07, Train acc: 53.46\n",
            "Epoch: 24/200, Test acc: 43.07, Train acc: 53.46\n",
            "Epoch: 25/200, Test acc: 43.07, Train acc: 53.46\n",
            "Epoch: 26/200, Test acc: 43.07, Train acc: 53.46\n",
            "Epoch: 27/200, Test acc: 43.07, Train acc: 53.46\n",
            "Epoch: 28/200, Test acc: 43.07, Train acc: 53.46\n",
            "Epoch: 29/200, Test acc: 43.07, Train acc: 53.46\n",
            "number of epoch 30 loss tensor(1.5749, device='cuda:0')\n",
            "Epoch: 30/200, Test acc: 43.07, Train acc: 53.46\n",
            "Epoch: 31/200, Test acc: 43.07, Train acc: 53.46\n",
            "Epoch: 32/200, Test acc: 43.07, Train acc: 53.46\n",
            "Epoch: 33/200, Test acc: 43.07, Train acc: 53.46\n",
            "Epoch: 34/200, Test acc: 43.07, Train acc: 53.46\n",
            "Epoch: 35/200, Test acc: 43.07, Train acc: 53.46\n",
            "Epoch: 36/200, Test acc: 43.07, Train acc: 53.46\n",
            "Epoch: 37/200, Test acc: 43.07, Train acc: 53.46\n",
            "Epoch: 38/200, Test acc: 43.07, Train acc: 53.46\n",
            "Epoch: 39/200, Test acc: 43.07, Train acc: 53.46\n",
            "number of epoch 40 loss tensor(1.5598, device='cuda:0')\n",
            "Epoch: 40/200, Test acc: 43.07, Train acc: 53.46\n",
            "Epoch: 41/200, Test acc: 43.07, Train acc: 53.46\n",
            "Epoch: 42/200, Test acc: 43.07, Train acc: 53.46\n",
            "Epoch: 43/200, Test acc: 43.07, Train acc: 53.46\n",
            "Epoch: 44/200, Test acc: 43.07, Train acc: 53.46\n",
            "Epoch: 45/200, Test acc: 43.07, Train acc: 53.46\n",
            "Epoch: 46/200, Test acc: 43.07, Train acc: 53.46\n",
            "Epoch: 47/200, Test acc: 43.07, Train acc: 53.46\n",
            "Epoch: 48/200, Test acc: 43.07, Train acc: 53.46\n",
            "Epoch: 49/200, Test acc: 43.07, Train acc: 53.46\n",
            "number of epoch 50 loss tensor(1.5434, device='cuda:0')\n",
            "Epoch: 50/200, Test acc: 43.07, Train acc: 53.46\n",
            "Epoch: 51/200, Test acc: 43.07, Train acc: 53.46\n",
            "Epoch: 52/200, Test acc: 43.07, Train acc: 53.46\n",
            "Epoch: 53/200, Test acc: 43.07, Train acc: 53.46\n",
            "Epoch: 54/200, Test acc: 43.07, Train acc: 53.46\n",
            "Epoch: 55/200, Test acc: 43.07, Train acc: 53.46\n",
            "Epoch: 56/200, Test acc: 43.07, Train acc: 53.46\n",
            "Epoch: 57/200, Test acc: 43.07, Train acc: 53.46\n",
            "Epoch: 58/200, Test acc: 43.07, Train acc: 53.46\n",
            "Epoch: 59/200, Test acc: 43.07, Train acc: 53.46\n",
            "number of epoch 60 loss tensor(1.5254, device='cuda:0')\n",
            "Epoch: 60/200, Test acc: 43.07, Train acc: 53.46\n",
            "Epoch: 61/200, Test acc: 43.07, Train acc: 53.46\n",
            "Epoch: 62/200, Test acc: 43.07, Train acc: 53.46\n",
            "Epoch: 63/200, Test acc: 43.07, Train acc: 53.46\n",
            "Epoch: 64/200, Test acc: 43.07, Train acc: 53.46\n",
            "Epoch: 65/200, Test acc: 43.07, Train acc: 53.46\n",
            "Epoch: 66/200, Test acc: 43.07, Train acc: 53.46\n",
            "Epoch: 67/200, Test acc: 43.07, Train acc: 53.46\n",
            "Epoch: 68/200, Test acc: 43.07, Train acc: 53.46\n",
            "Epoch: 69/200, Test acc: 43.07, Train acc: 53.46\n",
            "number of epoch 70 loss tensor(1.5054, device='cuda:0')\n",
            "Epoch: 70/200, Test acc: 43.07, Train acc: 53.46\n",
            "Epoch: 71/200, Test acc: 43.07, Train acc: 53.46\n",
            "Epoch: 72/200, Test acc: 43.07, Train acc: 53.46\n",
            "Epoch: 73/200, Test acc: 43.07, Train acc: 53.46\n",
            "Epoch: 74/200, Test acc: 43.07, Train acc: 53.46\n",
            "Epoch: 75/200, Test acc: 43.07, Train acc: 53.46\n",
            "Epoch: 76/200, Test acc: 43.07, Train acc: 53.46\n",
            "Epoch: 77/200, Test acc: 43.07, Train acc: 53.46\n",
            "Epoch: 78/200, Test acc: 43.07, Train acc: 53.46\n",
            "Epoch: 79/200, Test acc: 43.07, Train acc: 53.46\n",
            "number of epoch 80 loss tensor(1.4834, device='cuda:0')\n",
            "Epoch: 80/200, Test acc: 43.07, Train acc: 53.46\n",
            "Epoch: 81/200, Test acc: 43.07, Train acc: 53.46\n",
            "Epoch: 82/200, Test acc: 43.07, Train acc: 53.46\n",
            "Epoch: 83/200, Test acc: 43.07, Train acc: 53.46\n",
            "Epoch: 84/200, Test acc: 43.07, Train acc: 53.46\n",
            "Epoch: 85/200, Test acc: 43.07, Train acc: 53.46\n",
            "Epoch: 86/200, Test acc: 43.07, Train acc: 53.46\n",
            "Epoch: 87/200, Test acc: 43.07, Train acc: 53.46\n",
            "Epoch: 88/200, Test acc: 43.07, Train acc: 53.46\n",
            "Epoch: 89/200, Test acc: 43.07, Train acc: 53.46\n",
            "number of epoch 90 loss tensor(1.4600, device='cuda:0')\n",
            "Epoch: 90/200, Test acc: 43.07, Train acc: 53.46\n",
            "Epoch: 91/200, Test acc: 43.07, Train acc: 53.46\n",
            "Epoch: 92/200, Test acc: 43.07, Train acc: 53.46\n",
            "Epoch: 93/200, Test acc: 43.07, Train acc: 53.46\n",
            "Epoch: 94/200, Test acc: 43.07, Train acc: 53.46\n",
            "Epoch: 95/200, Test acc: 43.07, Train acc: 53.46\n",
            "Epoch: 96/200, Test acc: 43.07, Train acc: 53.46\n",
            "Epoch: 97/200, Test acc: 43.07, Train acc: 53.46\n",
            "Epoch: 98/200, Test acc: 43.07, Train acc: 53.46\n",
            "Epoch: 99/200, Test acc: 43.07, Train acc: 53.46\n",
            "number of epoch 100 loss tensor(1.4366, device='cuda:0')\n",
            "Epoch: 100/200, Test acc: 43.07, Train acc: 53.46\n",
            "Epoch: 101/200, Test acc: 43.07, Train acc: 53.46\n",
            "Epoch: 102/200, Test acc: 43.07, Train acc: 53.46\n",
            "Epoch: 103/200, Test acc: 43.07, Train acc: 53.46\n",
            "Epoch: 104/200, Test acc: 43.07, Train acc: 53.46\n",
            "Epoch: 105/200, Test acc: 43.07, Train acc: 53.46\n",
            "Epoch: 106/200, Test acc: 43.07, Train acc: 53.46\n",
            "Epoch: 107/200, Test acc: 43.07, Train acc: 53.46\n",
            "Epoch: 108/200, Test acc: 43.07, Train acc: 53.46\n",
            "Epoch: 109/200, Test acc: 43.07, Train acc: 53.46\n",
            "number of epoch 110 loss tensor(1.4159, device='cuda:0')\n",
            "Epoch: 110/200, Test acc: 43.07, Train acc: 53.46\n",
            "Epoch: 111/200, Test acc: 43.07, Train acc: 53.46\n",
            "Epoch: 112/200, Test acc: 43.07, Train acc: 53.46\n",
            "Epoch: 113/200, Test acc: 43.07, Train acc: 53.46\n",
            "Epoch: 114/200, Test acc: 43.07, Train acc: 53.46\n",
            "Epoch: 115/200, Test acc: 43.07, Train acc: 53.46\n",
            "Epoch: 116/200, Test acc: 43.07, Train acc: 53.46\n",
            "Epoch: 117/200, Test acc: 43.07, Train acc: 53.46\n",
            "Epoch: 118/200, Test acc: 43.07, Train acc: 53.46\n",
            "Epoch: 119/200, Test acc: 43.07, Train acc: 53.46\n",
            "number of epoch 120 loss tensor(1.4000, device='cuda:0')\n",
            "Epoch: 120/200, Test acc: 43.07, Train acc: 53.46\n",
            "Epoch: 121/200, Test acc: 43.07, Train acc: 53.46\n",
            "Epoch: 122/200, Test acc: 43.07, Train acc: 53.46\n",
            "Epoch: 123/200, Test acc: 43.07, Train acc: 53.46\n",
            "Epoch: 124/200, Test acc: 43.07, Train acc: 53.46\n",
            "Epoch: 125/200, Test acc: 43.07, Train acc: 53.46\n",
            "Epoch: 126/200, Test acc: 43.07, Train acc: 53.46\n",
            "Epoch: 127/200, Test acc: 43.07, Train acc: 53.46\n",
            "Epoch: 128/200, Test acc: 43.07, Train acc: 53.46\n",
            "Epoch: 129/200, Test acc: 43.07, Train acc: 53.46\n",
            "number of epoch 130 loss tensor(1.3892, device='cuda:0')\n",
            "Epoch: 130/200, Test acc: 43.07, Train acc: 53.46\n",
            "Epoch: 131/200, Test acc: 43.07, Train acc: 53.46\n",
            "Epoch: 132/200, Test acc: 43.07, Train acc: 53.46\n",
            "Epoch: 133/200, Test acc: 43.07, Train acc: 53.46\n",
            "Epoch: 134/200, Test acc: 43.07, Train acc: 53.46\n",
            "Epoch: 135/200, Test acc: 43.07, Train acc: 53.46\n",
            "Epoch: 136/200, Test acc: 43.07, Train acc: 53.46\n",
            "Epoch: 137/200, Test acc: 43.07, Train acc: 53.46\n",
            "Epoch: 138/200, Test acc: 43.07, Train acc: 53.46\n",
            "Epoch: 139/200, Test acc: 43.07, Train acc: 53.46\n",
            "number of epoch 140 loss tensor(1.3825, device='cuda:0')\n",
            "Epoch: 140/200, Test acc: 43.07, Train acc: 53.46\n",
            "Epoch: 141/200, Test acc: 43.07, Train acc: 53.46\n",
            "Epoch: 142/200, Test acc: 43.07, Train acc: 53.46\n",
            "Epoch: 143/200, Test acc: 43.07, Train acc: 53.46\n",
            "Epoch: 144/200, Test acc: 43.07, Train acc: 53.46\n",
            "Epoch: 145/200, Test acc: 43.07, Train acc: 53.46\n",
            "Epoch: 146/200, Test acc: 43.07, Train acc: 53.46\n",
            "Epoch: 147/200, Test acc: 43.07, Train acc: 53.46\n",
            "Epoch: 148/200, Test acc: 43.07, Train acc: 53.46\n",
            "Epoch: 149/200, Test acc: 43.07, Train acc: 53.46\n",
            "number of epoch 150 loss tensor(1.3785, device='cuda:0')\n",
            "Epoch: 150/200, Test acc: 43.07, Train acc: 53.46\n",
            "Epoch: 151/200, Test acc: 43.07, Train acc: 53.46\n",
            "Epoch: 152/200, Test acc: 43.07, Train acc: 53.46\n",
            "Epoch: 153/200, Test acc: 43.07, Train acc: 53.46\n",
            "Epoch: 154/200, Test acc: 43.07, Train acc: 53.46\n",
            "Epoch: 155/200, Test acc: 43.07, Train acc: 53.46\n",
            "Epoch: 156/200, Test acc: 43.07, Train acc: 53.46\n",
            "Epoch: 157/200, Test acc: 43.07, Train acc: 53.46\n",
            "Epoch: 158/200, Test acc: 43.07, Train acc: 53.46\n",
            "Epoch: 159/200, Test acc: 43.07, Train acc: 53.46\n",
            "number of epoch 160 loss tensor(1.3760, device='cuda:0')\n",
            "Epoch: 160/200, Test acc: 43.07, Train acc: 53.46\n",
            "Epoch: 161/200, Test acc: 43.07, Train acc: 53.46\n",
            "Epoch: 162/200, Test acc: 43.07, Train acc: 53.46\n",
            "Epoch: 163/200, Test acc: 43.07, Train acc: 53.46\n",
            "Epoch: 164/200, Test acc: 43.07, Train acc: 53.46\n",
            "Epoch: 165/200, Test acc: 43.07, Train acc: 53.46\n",
            "Epoch: 166/200, Test acc: 43.07, Train acc: 53.46\n",
            "Epoch: 167/200, Test acc: 43.07, Train acc: 53.46\n",
            "Epoch: 168/200, Test acc: 43.07, Train acc: 53.46\n",
            "Epoch: 169/200, Test acc: 43.07, Train acc: 53.46\n",
            "number of epoch 170 loss tensor(1.3743, device='cuda:0')\n",
            "Epoch: 170/200, Test acc: 43.07, Train acc: 53.46\n",
            "Epoch: 171/200, Test acc: 43.07, Train acc: 53.46\n",
            "Epoch: 172/200, Test acc: 43.07, Train acc: 53.46\n",
            "Epoch: 173/200, Test acc: 43.07, Train acc: 53.46\n",
            "Epoch: 174/200, Test acc: 43.07, Train acc: 53.46\n",
            "Epoch: 175/200, Test acc: 43.07, Train acc: 53.46\n",
            "Epoch: 176/200, Test acc: 43.07, Train acc: 53.46\n",
            "Epoch: 177/200, Test acc: 43.07, Train acc: 53.46\n",
            "Epoch: 178/200, Test acc: 43.07, Train acc: 53.46\n",
            "Epoch: 179/200, Test acc: 43.07, Train acc: 53.46\n",
            "number of epoch 180 loss tensor(1.3732, device='cuda:0')\n",
            "Epoch: 180/200, Test acc: 43.07, Train acc: 53.46\n",
            "Epoch: 181/200, Test acc: 43.07, Train acc: 53.46\n",
            "Epoch: 182/200, Test acc: 43.07, Train acc: 53.46\n",
            "Epoch: 183/200, Test acc: 43.07, Train acc: 53.46\n",
            "Epoch: 184/200, Test acc: 43.07, Train acc: 53.46\n",
            "Epoch: 185/200, Test acc: 43.07, Train acc: 53.46\n",
            "Epoch: 186/200, Test acc: 43.07, Train acc: 53.46\n",
            "Epoch: 187/200, Test acc: 43.07, Train acc: 53.46\n",
            "Epoch: 188/200, Test acc: 43.07, Train acc: 53.46\n",
            "Epoch: 189/200, Test acc: 43.07, Train acc: 53.46\n",
            "number of epoch 190 loss tensor(1.3724, device='cuda:0')\n",
            "Epoch: 190/200, Test acc: 43.07, Train acc: 53.46\n",
            "Epoch: 191/200, Test acc: 43.07, Train acc: 53.46\n",
            "Epoch: 192/200, Test acc: 43.07, Train acc: 53.46\n",
            "Epoch: 193/200, Test acc: 43.07, Train acc: 53.46\n",
            "Epoch: 194/200, Test acc: 43.07, Train acc: 53.46\n",
            "Epoch: 195/200, Test acc: 43.07, Train acc: 53.46\n",
            "Epoch: 196/200, Test acc: 43.07, Train acc: 53.46\n",
            "Epoch: 197/200, Test acc: 43.07, Train acc: 53.46\n",
            "Epoch: 198/200, Test acc: 43.07, Train acc: 53.46\n",
            "Epoch: 199/200, Test acc: 43.07, Train acc: 53.46\n"
          ],
          "name": "stdout"
        },
        {
          "output_type": "display_data",
          "data": {
            "image/png": "[encoded data removed]",
            "text/plain": [
              "<Figure size 432x288 with 1 Axes>"
            ]
          },
          "metadata": {
            "tags": [],
            "needs_background": "light"
          }
        },
        {
          "output_type": "stream",
          "text": [
            "prediction accuracy 0.43073237812181164\n"
          ],
          "name": "stdout"
        }
      ]
    },
    {
      "cell_type": "code",
      "metadata": {
        "id": "Gd6YnxyR4FCp"
      },
      "source": [
        "model = torch.nn.Sequential(\n",
        "    torch.nn.Linear(37, 512),\n",
        "    torch.nn.Dropout(0.3),\n",
        "    torch.nn.Tanh(),\n",
        "    torch.nn.Linear(512, 512),\n",
        "    torch.nn.Dropout(0.3),\n",
        "    torch.nn.ReLU(),\n",
        "    torch.nn.Linear(512, 128),\n",
        "    torch.nn.Dropout(0.3),\n",
        "    torch.nn.ReLU(),\n",
        "    torch.nn.Linear(128,128),\n",
        "    torch.nn.Dropout(0.3),\n",
        "    torch.nn.ReLU(),\n",
        "    torch.nn.Linear(128, 64),\n",
        "    torch.nn.Dropout(0.3),\n",
        "    torch.nn.ReLU(),\n",
        "    torch.nn.Linear(64, 64),\n",
        "    torch.nn.Dropout(0.3),\n",
        "    torch.nn.Tanh(),\n",
        "    torch.nn.Linear(64,5))"
      ],
      "execution_count": null,
      "outputs": []
    },
    {
      "cell_type": "code",
      "metadata": {
        "id": "KRQ2_n9DrsEp",
        "colab": {
          "base_uri": "https://localhost:8080/",
          "height": 1000
        },
        "outputId": "67636076-4c3c-4707-9dd9-cc8412928a7d"
      },
      "source": [
        "net = model.to(device)\n",
        "loss_epoch = []\n",
        "train_loss = []\n",
        "test_loss = []\n",
        "train_acc = []\n",
        "test_acc = []\n",
        "criterion = nn.CrossEntropyLoss()# cross entropy loss\n",
        "optimizer = torch.optim.SGD(net.parameters(), lr=0.01,momentum=0.9)\n",
        "max_epochs = 1000\n",
        "for epoch in range(1000):\n",
        "    optimizer.zero_grad()\n",
        "    out = net(train_X)\n",
        "    loss = criterion(out, train_y)\n",
        "    loss.backward()\n",
        "    optimizer.step()\n",
        "    if epoch % 20 == 0:\n",
        "        print('number of epoch', epoch, 'loss', loss.data)\n",
        "        print('Epoch: %d/%d, Test acc: %0.2f, Train acc: %0.2f' % (epoch, max_epochs, evaluation(test_X,test_y), evaluation(train_X,train_y)))\n",
        "    loss_epoch.append(loss.item())\n",
        "    train_loss.append(loss.item())\n",
        "\n",
        "    test_out = net(test_X)\n",
        "    te_loss = criterion(test_out,test_y)\n",
        "    test_loss.append(te_loss.item())\n",
        "\n",
        "    tr_acc = evaluation(train_X,train_y)\n",
        "    train_acc.append(tr_acc)\n",
        "\n",
        "    te_acc = evaluation(test_X,test_y)\n",
        "    test_acc.append(te_acc)\n",
        "\n",
        "plt.plot(train_loss)\n",
        "plt.plot(test_loss)\n",
        "plt.title('model loss')\n",
        "plt.ylabel('loss')\n",
        "plt.xlabel('epoch')\n",
        "plt.legend(['train', 'test'], loc='upper left')\n",
        "plt.show()\n",
        "\n",
        "plt.plot(train_acc)\n",
        "plt.plot(test_acc)\n",
        "plt.title('model accuracy')\n",
        "plt.ylabel('accuracy')\n",
        "plt.xlabel('epoch')\n",
        "plt.legend(['train', 'test'], loc='upper left')\n",
        "plt.show()\n",
        "\n",
        "predict_out = net(test_X)\n",
        "_, predict_y = torch.max(predict_out, 1)\n",
        "print('prediction accuracy', accuracy_score(test_y.cpu().data.numpy(),predict_y.cpu().data.numpy()))"
      ],
      "execution_count": null,
      "outputs": [
        {
          "output_type": "stream",
          "text": [
            "number of epoch 0 loss tensor(1.6997, device='cuda:0')\n",
            "Epoch: 0/1000, Test acc: 6.59, Train acc: 0.54\n",
            "number of epoch 20 loss tensor(1.2837, device='cuda:0')\n",
            "Epoch: 20/1000, Test acc: 43.07, Train acc: 53.46\n",
            "number of epoch 40 loss tensor(1.0552, device='cuda:0')\n",
            "Epoch: 40/1000, Test acc: 43.07, Train acc: 53.46\n",
            "number of epoch 60 loss tensor(1.0033, device='cuda:0')\n",
            "Epoch: 60/1000, Test acc: 43.07, Train acc: 53.46\n",
            "number of epoch 80 loss tensor(0.9761, device='cuda:0')\n",
            "Epoch: 80/1000, Test acc: 43.09, Train acc: 53.47\n",
            "number of epoch 100 loss tensor(0.9371, device='cuda:0')\n",
            "Epoch: 100/1000, Test acc: 43.26, Train acc: 53.81\n",
            "number of epoch 120 loss tensor(0.8147, device='cuda:0')\n",
            "Epoch: 120/1000, Test acc: 52.59, Train acc: 71.93\n",
            "number of epoch 140 loss tensor(0.5066, device='cuda:0')\n",
            "Epoch: 140/1000, Test acc: 66.32, Train acc: 86.50\n",
            "number of epoch 160 loss tensor(0.3857, device='cuda:0')\n",
            "Epoch: 160/1000, Test acc: 66.41, Train acc: 87.57\n",
            "number of epoch 180 loss tensor(0.3438, device='cuda:0')\n",
            "Epoch: 180/1000, Test acc: 66.03, Train acc: 88.01\n",
            "number of epoch 200 loss tensor(0.3149, device='cuda:0')\n",
            "Epoch: 200/1000, Test acc: 66.02, Train acc: 88.26\n",
            "number of epoch 220 loss tensor(0.2935, device='cuda:0')\n",
            "Epoch: 220/1000, Test acc: 66.36, Train acc: 88.99\n",
            "number of epoch 240 loss tensor(0.2744, device='cuda:0')\n",
            "Epoch: 240/1000, Test acc: 67.47, Train acc: 91.15\n",
            "number of epoch 260 loss tensor(0.2548, device='cuda:0')\n",
            "Epoch: 260/1000, Test acc: 68.81, Train acc: 93.18\n",
            "number of epoch 280 loss tensor(0.2358, device='cuda:0')\n",
            "Epoch: 280/1000, Test acc: 69.84, Train acc: 94.64\n",
            "number of epoch 300 loss tensor(0.2189, device='cuda:0')\n",
            "Epoch: 300/1000, Test acc: 70.32, Train acc: 95.57\n",
            "number of epoch 320 loss tensor(0.2035, device='cuda:0')\n",
            "Epoch: 320/1000, Test acc: 70.95, Train acc: 95.98\n",
            "number of epoch 340 loss tensor(0.1863, device='cuda:0')\n",
            "Epoch: 340/1000, Test acc: 71.20, Train acc: 96.25\n",
            "number of epoch 360 loss tensor(0.1729, device='cuda:0')\n",
            "Epoch: 360/1000, Test acc: 71.57, Train acc: 96.39\n",
            "number of epoch 380 loss tensor(0.1627, device='cuda:0')\n",
            "Epoch: 380/1000, Test acc: 71.78, Train acc: 96.54\n",
            "number of epoch 400 loss tensor(0.1551, device='cuda:0')\n",
            "Epoch: 400/1000, Test acc: 71.95, Train acc: 96.63\n",
            "number of epoch 420 loss tensor(0.1494, device='cuda:0')\n",
            "Epoch: 420/1000, Test acc: 72.12, Train acc: 96.70\n",
            "number of epoch 440 loss tensor(0.1444, device='cuda:0')\n",
            "Epoch: 440/1000, Test acc: 72.14, Train acc: 96.72\n",
            "number of epoch 460 loss tensor(0.1418, device='cuda:0')\n",
            "Epoch: 460/1000, Test acc: 72.39, Train acc: 96.76\n",
            "number of epoch 480 loss tensor(0.1386, device='cuda:0')\n",
            "Epoch: 480/1000, Test acc: 72.36, Train acc: 96.81\n",
            "number of epoch 500 loss tensor(0.1364, device='cuda:0')\n",
            "Epoch: 500/1000, Test acc: 72.52, Train acc: 96.86\n",
            "number of epoch 520 loss tensor(0.1340, device='cuda:0')\n",
            "Epoch: 520/1000, Test acc: 72.44, Train acc: 96.91\n",
            "number of epoch 540 loss tensor(0.1322, device='cuda:0')\n",
            "Epoch: 540/1000, Test acc: 72.55, Train acc: 96.98\n",
            "number of epoch 560 loss tensor(0.1305, device='cuda:0')\n",
            "Epoch: 560/1000, Test acc: 72.56, Train acc: 96.94\n",
            "number of epoch 580 loss tensor(0.1285, device='cuda:0')\n",
            "Epoch: 580/1000, Test acc: 72.60, Train acc: 97.01\n",
            "number of epoch 600 loss tensor(0.1266, device='cuda:0')\n",
            "Epoch: 600/1000, Test acc: 72.70, Train acc: 97.02\n",
            "number of epoch 620 loss tensor(0.1257, device='cuda:0')\n",
            "Epoch: 620/1000, Test acc: 72.65, Train acc: 97.05\n",
            "number of epoch 640 loss tensor(0.1242, device='cuda:0')\n",
            "Epoch: 640/1000, Test acc: 72.62, Train acc: 97.07\n",
            "number of epoch 660 loss tensor(0.1225, device='cuda:0')\n",
            "Epoch: 660/1000, Test acc: 72.63, Train acc: 97.11\n",
            "number of epoch 680 loss tensor(0.1207, device='cuda:0')\n",
            "Epoch: 680/1000, Test acc: 72.76, Train acc: 97.14\n",
            "number of epoch 700 loss tensor(0.1201, device='cuda:0')\n",
            "Epoch: 700/1000, Test acc: 72.81, Train acc: 97.16\n",
            "number of epoch 720 loss tensor(0.1195, device='cuda:0')\n",
            "Epoch: 720/1000, Test acc: 72.73, Train acc: 97.20\n",
            "number of epoch 740 loss tensor(0.1179, device='cuda:0')\n",
            "Epoch: 740/1000, Test acc: 72.82, Train acc: 97.20\n",
            "number of epoch 760 loss tensor(0.1168, device='cuda:0')\n",
            "Epoch: 760/1000, Test acc: 72.80, Train acc: 97.23\n",
            "number of epoch 780 loss tensor(0.1153, device='cuda:0')\n",
            "Epoch: 780/1000, Test acc: 72.74, Train acc: 97.26\n",
            "number of epoch 800 loss tensor(0.1147, device='cuda:0')\n",
            "Epoch: 800/1000, Test acc: 72.84, Train acc: 97.28\n",
            "number of epoch 820 loss tensor(0.1139, device='cuda:0')\n",
            "Epoch: 820/1000, Test acc: 72.95, Train acc: 97.24\n",
            "number of epoch 840 loss tensor(0.1131, device='cuda:0')\n",
            "Epoch: 840/1000, Test acc: 72.87, Train acc: 97.29\n",
            "number of epoch 860 loss tensor(0.1118, device='cuda:0')\n",
            "Epoch: 860/1000, Test acc: 73.01, Train acc: 97.36\n",
            "number of epoch 880 loss tensor(0.1112, device='cuda:0')\n",
            "Epoch: 880/1000, Test acc: 72.87, Train acc: 97.30\n",
            "number of epoch 900 loss tensor(0.1112, device='cuda:0')\n",
            "Epoch: 900/1000, Test acc: 72.81, Train acc: 97.41\n",
            "number of epoch 920 loss tensor(0.1089, device='cuda:0')\n",
            "Epoch: 920/1000, Test acc: 73.13, Train acc: 97.37\n",
            "number of epoch 940 loss tensor(0.1085, device='cuda:0')\n",
            "Epoch: 940/1000, Test acc: 72.99, Train acc: 97.37\n",
            "number of epoch 960 loss tensor(0.1085, device='cuda:0')\n",
            "Epoch: 960/1000, Test acc: 72.97, Train acc: 97.42\n",
            "number of epoch 980 loss tensor(0.1070, device='cuda:0')\n",
            "Epoch: 980/1000, Test acc: 72.98, Train acc: 97.40\n"
          ],
          "name": "stdout"
        },
        {
          "output_type": "display_data",
          "data": {
            "image/png": "[encoded data removed]",
            "text/plain": [
              "<Figure size 432x288 with 1 Axes>"
            ]
          },
          "metadata": {
            "tags": []
          }
        },
        {
          "output_type": "display_data",
          "data": {
            "image/png": "[encoded data removed]",
            "text/plain": [
              "<Figure size 432x288 with 1 Axes>"
            ]
          },
          "metadata": {
            "tags": []
          }
        },
        {
          "output_type": "stream",
          "text": [
            "prediction accuracy 0.7320232444661314\n"
          ],
          "name": "stdout"
        }
      ]
    },
    {
      "cell_type": "code",
      "metadata": {
        "id": "3-QXnNkRqJY4"
      },
      "source": [
        "predict_y = predict_y.cpu().data.numpy()"
      ],
      "execution_count": null,
      "outputs": []
    },
    {
      "cell_type": "code",
      "metadata": {
        "colab": {
          "base_uri": "https://localhost:8080/",
          "height": 235
        },
        "id": "X5hFuoFOqUmq",
        "outputId": "0895279b-0975-4124-ed48-712a6bd00e57"
      },
      "source": [
        "pd.crosstab(test_y.cpu().data.numpy(),predict_y, rownames=['Actual attacks'], colnames=['Predicted attacks'])"
      ],
      "execution_count": null,
      "outputs": [
        {
          "output_type": "execute_result",
          "data": {
            "text/html": [
              "<div>\n",
              "<style scoped>\n",
              "    .dataframe tbody tr th:only-of-type {\n",
              "        vertical-align: middle;\n",
              "    }\n",
              "\n",
              "    .dataframe tbody tr th {\n",
              "        vertical-align: top;\n",
              "    }\n",
              "\n",
              "    .dataframe thead th {\n",
              "        text-align: right;\n",
              "    }\n",
              "</style>\n",
              "<table border=\"1\" class=\"dataframe\">\n",
              "  <thead>\n",
              "    <tr style=\"text-align: right;\">\n",
              "      <th>Predicted attacks</th>\n",
              "      <th>0</th>\n",
              "      <th>1</th>\n",
              "      <th>2</th>\n",
              "    </tr>\n",
              "    <tr>\n",
              "      <th>Actual attacks</th>\n",
              "      <th></th>\n",
              "      <th></th>\n",
              "      <th></th>\n",
              "    </tr>\n",
              "  </thead>\n",
              "  <tbody>\n",
              "    <tr>\n",
              "      <th>0</th>\n",
              "      <td>8955</td>\n",
              "      <td>537</td>\n",
              "      <td>218</td>\n",
              "    </tr>\n",
              "    <tr>\n",
              "      <th>1</th>\n",
              "      <td>1562</td>\n",
              "      <td>5829</td>\n",
              "      <td>69</td>\n",
              "    </tr>\n",
              "    <tr>\n",
              "      <th>2</th>\n",
              "      <td>422</td>\n",
              "      <td>281</td>\n",
              "      <td>1718</td>\n",
              "    </tr>\n",
              "    <tr>\n",
              "      <th>3</th>\n",
              "      <td>2674</td>\n",
              "      <td>9</td>\n",
              "      <td>202</td>\n",
              "    </tr>\n",
              "    <tr>\n",
              "      <th>4</th>\n",
              "      <td>59</td>\n",
              "      <td>1</td>\n",
              "      <td>7</td>\n",
              "    </tr>\n",
              "  </tbody>\n",
              "</table>\n",
              "</div>"
            ],
            "text/plain": [
              "Predicted attacks     0     1     2\n",
              "Actual attacks                     \n",
              "0                  8955   537   218\n",
              "1                  1562  5829    69\n",
              "2                   422   281  1718\n",
              "3                  2674     9   202\n",
              "4                    59     1     7"
            ]
          },
          "metadata": {
            "tags": []
          },
          "execution_count": 45
        }
      ]
    },
    {
      "cell_type": "code",
      "metadata": {
        "id": "BLZgn4glK2_-",
        "colab": {
          "base_uri": "https://localhost:8080/",
          "height": 378
        },
        "outputId": "c0447a4c-b2ad-4ae7-d26f-dffd963be7b6"
      },
      "source": [
        "import seaborn as sns\n",
        "plt.figure(figsize=(10, 6))\n",
        "sns.set_theme(style=\"darkgrid\")\n",
        "ax = sns.countplot(x=predict_y)\n",
        "for p in ax.patches:\n",
        "  ax.annotate(format(p.get_height(), '.2f'), (p.get_x() + p.get_width() / 2., p.get_height()), ha = 'center', va = 'center', xytext = (0, 10), textcoords = 'offset points')"
      ],
      "execution_count": null,
      "outputs": [
        {
          "output_type": "display_data",
          "data": {
            "image/png": "[encoded data removed]",
            "text/plain": [
              "<Figure size 720x432 with 1 Axes>"
            ]
          },
          "metadata": {
            "tags": []
          }
        }
      ]
    }
  ]
}